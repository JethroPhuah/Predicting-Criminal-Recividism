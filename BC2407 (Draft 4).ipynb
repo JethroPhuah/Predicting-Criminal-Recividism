{
 "cells": [
  {
   "cell_type": "code",
   "execution_count": 1,
   "metadata": {},
   "outputs": [],
   "source": [
    "# Basic Libraries\n",
    "%matplotlib inline \n",
    "import time\n",
    "import pandas as pd\n",
    "import numpy as np\n",
    "import seaborn as sb\n",
    "import matplotlib\n",
    "import matplotlib.pyplot as plt\n",
    "from pprint import pprint\n",
    "from sklearn.metrics import roc_curve, auc\n",
    "from sklearn.metrics import confusion_matrix\n",
    "from sklearn.metrics import classification_report\n",
    "from sklearn.model_selection import KFold, cross_val_score\n",
    "from sklearn.model_selection import train_test_split, GridSearchCV,RandomizedSearchCV\n",
    "from sklearn.ensemble import RandomForestClassifier \n",
    "from sklearn.ensemble import RandomForestRegressor\n",
    "from urllib.request import urlopen \n",
    "from sklearn.model_selection import train_test_split\n",
    "from sklearn import metrics\n",
    "from sklearn.datasets import make_classification\n",
    "from collections import OrderedDict  \n",
    "data_path = r\"C:\\Users\\jethr\\ICPSR_36404-V2\\ICPSR_36404\\DS0001\\36404-0001-Data.tsv\"\n",
    "sb.set() # set the default Seaborn style for graphics"
   ]
  },
  {
   "cell_type": "markdown",
   "metadata": {},
   "source": [
    "https://www.datacamp.com/community/tutorials/deep-learning-python#preprocess\n",
    "\n",
    "https://machinelearningmastery.com/how-to-prepare-categorical-data-for-deep-learning-in-python/\n",
    "\n",
    "https://scikit-learn.org/stable/modules/generated/sklearn.preprocessing.OneHotEncoder.html#sklearn.preprocessing.OneHotEncoder\n",
    "\n",
    "https://machinelearningmastery.com/tutorial-first-neural-network-python-keras/\n",
    "\n",
    "https://stackoverflow.com/questions/43798377/one-hot-encode-categorical-variables-and-scale-continuous-ones-simultaneouely\n",
    "\n",
    "https://towardsdatascience.com/a-guide-to-an-efficient-way-to-build-neural-network-architectures-part-i-hyper-parameter-8129009f131b"
   ]
  },
  {
   "cell_type": "code",
   "execution_count": 2,
   "metadata": {},
   "outputs": [],
   "source": [
    "def build_df(filename):\n",
    "    df = pd.read_csv(data_path, header=0, sep=\"\\t\")\n",
    "    return df"
   ]
  },
  {
   "cell_type": "markdown",
   "metadata": {},
   "source": [
    "# Data Preparation/Cleaning"
   ]
  },
  {
   "cell_type": "code",
   "execution_count": 3,
   "metadata": {},
   "outputs": [
    {
     "name": "stderr",
     "output_type": "stream",
     "text": [
      "C:\\Users\\jethr\\anaconda3\\lib\\site-packages\\IPython\\core\\interactiveshell.py:3338: DtypeWarning: Columns (10) have mixed types.Specify dtype option on import or set low_memory=False.\n",
      "  if (await self.run_code(code, result,  async_=asy)):\n"
     ]
    },
    {
     "name": "stdout",
     "output_type": "stream",
     "text": [
      "ABT_INMATE_ID        object\n",
      "SEX                   int64\n",
      "ADMTYPE               int64\n",
      "OFFGENERAL            int64\n",
      "EDUCATION             int64\n",
      "ADMITYR               int64\n",
      "RELEASEYR             int64\n",
      "MAND_PRISREL_YEAR    object\n",
      "PROJ_PRISREL_YEAR    object\n",
      "PARELIG_YEAR         object\n",
      "SENTLGTH             object\n",
      "OFFDETAIL             int64\n",
      "RACE                  int64\n",
      "AGEADMIT              int64\n",
      "AGERELEASE           object\n",
      "TIMESRVD              int64\n",
      "RELTYPE              object\n",
      "STATE                 int64\n",
      "dtype: object\n"
     ]
    }
   ],
   "source": [
    "df = build_df(data_path)\n",
    "print(df.dtypes)"
   ]
  },
  {
   "cell_type": "code",
   "execution_count": 4,
   "metadata": {},
   "outputs": [],
   "source": [
    "df.replace(\" \", np.nan, inplace=True)"
   ]
  },
  {
   "cell_type": "code",
   "execution_count": 5,
   "metadata": {},
   "outputs": [
    {
     "data": {
      "text/html": [
       "<div>\n",
       "<style scoped>\n",
       "    .dataframe tbody tr th:only-of-type {\n",
       "        vertical-align: middle;\n",
       "    }\n",
       "\n",
       "    .dataframe tbody tr th {\n",
       "        vertical-align: top;\n",
       "    }\n",
       "\n",
       "    .dataframe thead th {\n",
       "        text-align: right;\n",
       "    }\n",
       "</style>\n",
       "<table border=\"1\" class=\"dataframe\">\n",
       "  <thead>\n",
       "    <tr style=\"text-align: right;\">\n",
       "      <th></th>\n",
       "      <th>ABT_INMATE_ID</th>\n",
       "      <th>SEX</th>\n",
       "      <th>ADMTYPE</th>\n",
       "      <th>OFFGENERAL</th>\n",
       "      <th>EDUCATION</th>\n",
       "      <th>ADMITYR</th>\n",
       "      <th>RELEASEYR</th>\n",
       "      <th>MAND_PRISREL_YEAR</th>\n",
       "      <th>PROJ_PRISREL_YEAR</th>\n",
       "      <th>PARELIG_YEAR</th>\n",
       "      <th>SENTLGTH</th>\n",
       "      <th>OFFDETAIL</th>\n",
       "      <th>RACE</th>\n",
       "      <th>AGEADMIT</th>\n",
       "      <th>AGERELEASE</th>\n",
       "      <th>TIMESRVD</th>\n",
       "      <th>RELTYPE</th>\n",
       "      <th>STATE</th>\n",
       "    </tr>\n",
       "  </thead>\n",
       "  <tbody>\n",
       "    <tr>\n",
       "      <th>0</th>\n",
       "      <td>A012015000000091071</td>\n",
       "      <td>1</td>\n",
       "      <td>1</td>\n",
       "      <td>2</td>\n",
       "      <td>9</td>\n",
       "      <td>2006</td>\n",
       "      <td>2010</td>\n",
       "      <td>NaN</td>\n",
       "      <td>NaN</td>\n",
       "      <td>NaN</td>\n",
       "      <td>4</td>\n",
       "      <td>10</td>\n",
       "      <td>9</td>\n",
       "      <td>3</td>\n",
       "      <td>3</td>\n",
       "      <td>2</td>\n",
       "      <td>3</td>\n",
       "      <td>1</td>\n",
       "    </tr>\n",
       "    <tr>\n",
       "      <th>1</th>\n",
       "      <td>A022015000000096906</td>\n",
       "      <td>1</td>\n",
       "      <td>3</td>\n",
       "      <td>3</td>\n",
       "      <td>9</td>\n",
       "      <td>2008</td>\n",
       "      <td>2008</td>\n",
       "      <td>NaN</td>\n",
       "      <td>NaN</td>\n",
       "      <td>NaN</td>\n",
       "      <td>0</td>\n",
       "      <td>12</td>\n",
       "      <td>1</td>\n",
       "      <td>3</td>\n",
       "      <td>3</td>\n",
       "      <td>0</td>\n",
       "      <td>NaN</td>\n",
       "      <td>2</td>\n",
       "    </tr>\n",
       "    <tr>\n",
       "      <th>2</th>\n",
       "      <td>A042015000000118649</td>\n",
       "      <td>1</td>\n",
       "      <td>1</td>\n",
       "      <td>1</td>\n",
       "      <td>9</td>\n",
       "      <td>2013</td>\n",
       "      <td>2014</td>\n",
       "      <td>2014</td>\n",
       "      <td>2014</td>\n",
       "      <td>NaN</td>\n",
       "      <td>0</td>\n",
       "      <td>6</td>\n",
       "      <td>1</td>\n",
       "      <td>1</td>\n",
       "      <td>1</td>\n",
       "      <td>0</td>\n",
       "      <td>1</td>\n",
       "      <td>4</td>\n",
       "    </tr>\n",
       "    <tr>\n",
       "      <th>3</th>\n",
       "      <td>A062015000000167469</td>\n",
       "      <td>1</td>\n",
       "      <td>2</td>\n",
       "      <td>2</td>\n",
       "      <td>9</td>\n",
       "      <td>1996</td>\n",
       "      <td>1996</td>\n",
       "      <td>NaN</td>\n",
       "      <td>NaN</td>\n",
       "      <td>NaN</td>\n",
       "      <td>2</td>\n",
       "      <td>7</td>\n",
       "      <td>1</td>\n",
       "      <td>2</td>\n",
       "      <td>2</td>\n",
       "      <td>0</td>\n",
       "      <td>1</td>\n",
       "      <td>6</td>\n",
       "    </tr>\n",
       "    <tr>\n",
       "      <th>4</th>\n",
       "      <td>A132015000000550479</td>\n",
       "      <td>1</td>\n",
       "      <td>1</td>\n",
       "      <td>1</td>\n",
       "      <td>9</td>\n",
       "      <td>1968</td>\n",
       "      <td>1972</td>\n",
       "      <td>1978</td>\n",
       "      <td>NaN</td>\n",
       "      <td>NaN</td>\n",
       "      <td>3</td>\n",
       "      <td>4</td>\n",
       "      <td>1</td>\n",
       "      <td>1</td>\n",
       "      <td>1</td>\n",
       "      <td>2</td>\n",
       "      <td>1</td>\n",
       "      <td>13</td>\n",
       "    </tr>\n",
       "  </tbody>\n",
       "</table>\n",
       "</div>"
      ],
      "text/plain": [
       "         ABT_INMATE_ID  SEX  ADMTYPE  OFFGENERAL  EDUCATION  ADMITYR  \\\n",
       "0  A012015000000091071    1        1           2          9     2006   \n",
       "1  A022015000000096906    1        3           3          9     2008   \n",
       "2  A042015000000118649    1        1           1          9     2013   \n",
       "3  A062015000000167469    1        2           2          9     1996   \n",
       "4  A132015000000550479    1        1           1          9     1968   \n",
       "\n",
       "   RELEASEYR MAND_PRISREL_YEAR PROJ_PRISREL_YEAR PARELIG_YEAR SENTLGTH  \\\n",
       "0       2010               NaN               NaN          NaN        4   \n",
       "1       2008               NaN               NaN          NaN        0   \n",
       "2       2014              2014              2014          NaN        0   \n",
       "3       1996               NaN               NaN          NaN        2   \n",
       "4       1972              1978               NaN          NaN        3   \n",
       "\n",
       "   OFFDETAIL  RACE  AGEADMIT AGERELEASE  TIMESRVD RELTYPE  STATE  \n",
       "0         10     9         3          3         2       3      1  \n",
       "1         12     1         3          3         0     NaN      2  \n",
       "2          6     1         1          1         0       1      4  \n",
       "3          7     1         2          2         0       1      6  \n",
       "4          4     1         1          1         2       1     13  "
      ]
     },
     "execution_count": 5,
     "metadata": {},
     "output_type": "execute_result"
    }
   ],
   "source": [
    "df.head()"
   ]
  },
  {
   "cell_type": "code",
   "execution_count": 6,
   "metadata": {},
   "outputs": [],
   "source": [
    "#df = df.convert_objects(convert_numeric=True)\n",
    "#df.head()"
   ]
  },
  {
   "cell_type": "code",
   "execution_count": 6,
   "metadata": {},
   "outputs": [
    {
     "name": "stdout",
     "output_type": "stream",
     "text": [
      "Data type :  <class 'pandas.core.frame.DataFrame'>\n",
      "Data dims :  (10907333, 18)\n"
     ]
    }
   ],
   "source": [
    "print(\"Data type : \", type(df))\n",
    "print(\"Data dims : \", df.shape)"
   ]
  },
  {
   "cell_type": "code",
   "execution_count": 8,
   "metadata": {},
   "outputs": [
    {
     "name": "stdout",
     "output_type": "stream",
     "text": [
      "ABT_INMATE_ID              0\n",
      "SEX                        0\n",
      "ADMTYPE                    0\n",
      "OFFGENERAL                 0\n",
      "EDUCATION                  0\n",
      "ADMITYR                    0\n",
      "RELEASEYR                  0\n",
      "MAND_PRISREL_YEAR    7209317\n",
      "PROJ_PRISREL_YEAR    4662333\n",
      "PARELIG_YEAR         8148769\n",
      "SENTLGTH               20063\n",
      "OFFDETAIL                  0\n",
      "RACE                       0\n",
      "AGEADMIT                   0\n",
      "AGERELEASE           1200886\n",
      "TIMESRVD                   0\n",
      "RELTYPE              1809372\n",
      "STATE                      0\n",
      "dtype: int64\n"
     ]
    },
    {
     "data": {
      "text/plain": [
       "<matplotlib.legend.Legend at 0x2d0e0d6b610>"
      ]
     },
     "execution_count": 8,
     "metadata": {},
     "output_type": "execute_result"
    },
    {
     "data": {
      "image/png": "[encoded data removed]",
      "text/plain": [
       "<Figure size 432x288 with 1 Axes>"
      ]
     },
     "metadata": {},
     "output_type": "display_data"
    }
   ],
   "source": [
    "missing_data = df.isnull().sum()\n",
    "print(missing_data)\n",
    "missing_data.plot(kind='bar', color='Red', title=\"Number of Rows Missing Data\", grid=True).legend(loc='center left', bbox_to_anchor=(1, 0.5))"
   ]
  },
  {
   "cell_type": "markdown",
   "metadata": {},
   "source": [
    "As we can see from the above graph, most of the missing data are related to the year when the prisoner is going to be released. For example, some columns such as PARELIG_YEAR are missing almost 80% of their values. Therefore, we cannot impute the values in these columns as more data is missing than available. It is best that we drop all missing values. "
   ]
  },
  {
   "cell_type": "code",
   "execution_count": 9,
   "metadata": {},
   "outputs": [],
   "source": [
    "complete_rows = df.dropna()"
   ]
  },
  {
   "cell_type": "code",
   "execution_count": 10,
   "metadata": {},
   "outputs": [
    {
     "data": {
      "text/html": [
       "<div>\n",
       "<style scoped>\n",
       "    .dataframe tbody tr th:only-of-type {\n",
       "        vertical-align: middle;\n",
       "    }\n",
       "\n",
       "    .dataframe tbody tr th {\n",
       "        vertical-align: top;\n",
       "    }\n",
       "\n",
       "    .dataframe thead th {\n",
       "        text-align: right;\n",
       "    }\n",
       "</style>\n",
       "<table border=\"1\" class=\"dataframe\">\n",
       "  <thead>\n",
       "    <tr style=\"text-align: right;\">\n",
       "      <th></th>\n",
       "      <th>ABT_INMATE_ID</th>\n",
       "      <th>SEX</th>\n",
       "      <th>ADMTYPE</th>\n",
       "      <th>OFFGENERAL</th>\n",
       "      <th>EDUCATION</th>\n",
       "      <th>ADMITYR</th>\n",
       "      <th>RELEASEYR</th>\n",
       "      <th>MAND_PRISREL_YEAR</th>\n",
       "      <th>PROJ_PRISREL_YEAR</th>\n",
       "      <th>PARELIG_YEAR</th>\n",
       "      <th>SENTLGTH</th>\n",
       "      <th>OFFDETAIL</th>\n",
       "      <th>RACE</th>\n",
       "      <th>AGEADMIT</th>\n",
       "      <th>AGERELEASE</th>\n",
       "      <th>TIMESRVD</th>\n",
       "      <th>RELTYPE</th>\n",
       "      <th>STATE</th>\n",
       "    </tr>\n",
       "  </thead>\n",
       "  <tbody>\n",
       "    <tr>\n",
       "      <th>6</th>\n",
       "      <td>A182015000000019353</td>\n",
       "      <td>2</td>\n",
       "      <td>3</td>\n",
       "      <td>3</td>\n",
       "      <td>9</td>\n",
       "      <td>2008</td>\n",
       "      <td>2009</td>\n",
       "      <td>2010</td>\n",
       "      <td>2009</td>\n",
       "      <td>2009</td>\n",
       "      <td>2</td>\n",
       "      <td>12</td>\n",
       "      <td>1</td>\n",
       "      <td>2</td>\n",
       "      <td>2</td>\n",
       "      <td>0</td>\n",
       "      <td>1</td>\n",
       "      <td>18</td>\n",
       "    </tr>\n",
       "    <tr>\n",
       "      <th>23</th>\n",
       "      <td>A442015000000038143</td>\n",
       "      <td>1</td>\n",
       "      <td>1</td>\n",
       "      <td>3</td>\n",
       "      <td>9</td>\n",
       "      <td>2007</td>\n",
       "      <td>2008</td>\n",
       "      <td>2008</td>\n",
       "      <td>2008</td>\n",
       "      <td>2007</td>\n",
       "      <td>1</td>\n",
       "      <td>12</td>\n",
       "      <td>2</td>\n",
       "      <td>4</td>\n",
       "      <td>4</td>\n",
       "      <td>1</td>\n",
       "      <td>2</td>\n",
       "      <td>44</td>\n",
       "    </tr>\n",
       "    <tr>\n",
       "      <th>287979</th>\n",
       "      <td>A042015000000273326</td>\n",
       "      <td>1</td>\n",
       "      <td>1</td>\n",
       "      <td>2</td>\n",
       "      <td>9</td>\n",
       "      <td>2012</td>\n",
       "      <td>2013</td>\n",
       "      <td>2013</td>\n",
       "      <td>2013</td>\n",
       "      <td>2013</td>\n",
       "      <td>3</td>\n",
       "      <td>10</td>\n",
       "      <td>1</td>\n",
       "      <td>5</td>\n",
       "      <td>5</td>\n",
       "      <td>1</td>\n",
       "      <td>1</td>\n",
       "      <td>4</td>\n",
       "    </tr>\n",
       "    <tr>\n",
       "      <th>404424</th>\n",
       "      <td>A042015000000190084</td>\n",
       "      <td>1</td>\n",
       "      <td>1</td>\n",
       "      <td>1</td>\n",
       "      <td>9</td>\n",
       "      <td>2012</td>\n",
       "      <td>2014</td>\n",
       "      <td>2014</td>\n",
       "      <td>2014</td>\n",
       "      <td>2014</td>\n",
       "      <td>3</td>\n",
       "      <td>1</td>\n",
       "      <td>1</td>\n",
       "      <td>4</td>\n",
       "      <td>4</td>\n",
       "      <td>1</td>\n",
       "      <td>1</td>\n",
       "      <td>4</td>\n",
       "    </tr>\n",
       "    <tr>\n",
       "      <th>488157</th>\n",
       "      <td>A042015000000224709</td>\n",
       "      <td>1</td>\n",
       "      <td>2</td>\n",
       "      <td>1</td>\n",
       "      <td>9</td>\n",
       "      <td>2012</td>\n",
       "      <td>2013</td>\n",
       "      <td>2013</td>\n",
       "      <td>2013</td>\n",
       "      <td>2011</td>\n",
       "      <td>4</td>\n",
       "      <td>3</td>\n",
       "      <td>1</td>\n",
       "      <td>5</td>\n",
       "      <td>5</td>\n",
       "      <td>0</td>\n",
       "      <td>1</td>\n",
       "      <td>4</td>\n",
       "    </tr>\n",
       "  </tbody>\n",
       "</table>\n",
       "</div>"
      ],
      "text/plain": [
       "              ABT_INMATE_ID  SEX  ADMTYPE  OFFGENERAL  EDUCATION  ADMITYR  \\\n",
       "6       A182015000000019353    2        3           3          9     2008   \n",
       "23      A442015000000038143    1        1           3          9     2007   \n",
       "287979  A042015000000273326    1        1           2          9     2012   \n",
       "404424  A042015000000190084    1        1           1          9     2012   \n",
       "488157  A042015000000224709    1        2           1          9     2012   \n",
       "\n",
       "        RELEASEYR MAND_PRISREL_YEAR PROJ_PRISREL_YEAR PARELIG_YEAR SENTLGTH  \\\n",
       "6            2009              2010              2009         2009        2   \n",
       "23           2008              2008              2008         2007        1   \n",
       "287979       2013              2013              2013         2013        3   \n",
       "404424       2014              2014              2014         2014        3   \n",
       "488157       2013              2013              2013         2011        4   \n",
       "\n",
       "        OFFDETAIL  RACE  AGEADMIT AGERELEASE  TIMESRVD RELTYPE  STATE  \n",
       "6              12     1         2          2         0       1     18  \n",
       "23             12     2         4          4         1       2     44  \n",
       "287979         10     1         5          5         1       1      4  \n",
       "404424          1     1         4          4         1       1      4  \n",
       "488157          3     1         5          5         0       1      4  "
      ]
     },
     "execution_count": 10,
     "metadata": {},
     "output_type": "execute_result"
    }
   ],
   "source": [
    "complete_rows.head()\n"
   ]
  },
  {
   "cell_type": "markdown",
   "metadata": {},
   "source": [
    "Convert relevant data types from object to integer"
   ]
  },
  {
   "cell_type": "code",
   "execution_count": 11,
   "metadata": {},
   "outputs": [
    {
     "name": "stderr",
     "output_type": "stream",
     "text": [
      "<ipython-input-11-cf14f2ca324f>:1: SettingWithCopyWarning: \n",
      "A value is trying to be set on a copy of a slice from a DataFrame.\n",
      "Try using .loc[row_indexer,col_indexer] = value instead\n",
      "\n",
      "See the caveats in the documentation: https://pandas.pydata.org/pandas-docs/stable/user_guide/indexing.html#returning-a-view-versus-a-copy\n",
      "  complete_rows['MAND_PRISREL_YEAR'] = complete_rows['MAND_PRISREL_YEAR'].astype(str).astype(int)\n",
      "<ipython-input-11-cf14f2ca324f>:2: SettingWithCopyWarning: \n",
      "A value is trying to be set on a copy of a slice from a DataFrame.\n",
      "Try using .loc[row_indexer,col_indexer] = value instead\n",
      "\n",
      "See the caveats in the documentation: https://pandas.pydata.org/pandas-docs/stable/user_guide/indexing.html#returning-a-view-versus-a-copy\n",
      "  complete_rows['PROJ_PRISREL_YEAR'] = complete_rows['PROJ_PRISREL_YEAR'].astype(str).astype(int)\n",
      "<ipython-input-11-cf14f2ca324f>:3: SettingWithCopyWarning: \n",
      "A value is trying to be set on a copy of a slice from a DataFrame.\n",
      "Try using .loc[row_indexer,col_indexer] = value instead\n",
      "\n",
      "See the caveats in the documentation: https://pandas.pydata.org/pandas-docs/stable/user_guide/indexing.html#returning-a-view-versus-a-copy\n",
      "  complete_rows['PARELIG_YEAR'] = complete_rows['PARELIG_YEAR'].astype(str).astype(int)\n",
      "<ipython-input-11-cf14f2ca324f>:4: SettingWithCopyWarning: \n",
      "A value is trying to be set on a copy of a slice from a DataFrame.\n",
      "Try using .loc[row_indexer,col_indexer] = value instead\n",
      "\n",
      "See the caveats in the documentation: https://pandas.pydata.org/pandas-docs/stable/user_guide/indexing.html#returning-a-view-versus-a-copy\n",
      "  complete_rows['AGERELEASE'] = complete_rows['AGERELEASE'].astype(str).astype(int)\n",
      "<ipython-input-11-cf14f2ca324f>:5: SettingWithCopyWarning: \n",
      "A value is trying to be set on a copy of a slice from a DataFrame.\n",
      "Try using .loc[row_indexer,col_indexer] = value instead\n",
      "\n",
      "See the caveats in the documentation: https://pandas.pydata.org/pandas-docs/stable/user_guide/indexing.html#returning-a-view-versus-a-copy\n",
      "  complete_rows['RELTYPE'] = complete_rows['RELTYPE'].astype(str).astype(int)\n",
      "<ipython-input-11-cf14f2ca324f>:6: SettingWithCopyWarning: \n",
      "A value is trying to be set on a copy of a slice from a DataFrame.\n",
      "Try using .loc[row_indexer,col_indexer] = value instead\n",
      "\n",
      "See the caveats in the documentation: https://pandas.pydata.org/pandas-docs/stable/user_guide/indexing.html#returning-a-view-versus-a-copy\n",
      "  complete_rows['SENTLGTH'] = complete_rows['SENTLGTH'].astype(str).astype(int)\n"
     ]
    }
   ],
   "source": [
    "complete_rows['MAND_PRISREL_YEAR'] = complete_rows['MAND_PRISREL_YEAR'].astype(str).astype(int)\n",
    "complete_rows['PROJ_PRISREL_YEAR'] = complete_rows['PROJ_PRISREL_YEAR'].astype(str).astype(int)\n",
    "complete_rows['PARELIG_YEAR'] = complete_rows['PARELIG_YEAR'].astype(str).astype(int)\n",
    "complete_rows['AGERELEASE'] = complete_rows['AGERELEASE'].astype(str).astype(int)\n",
    "complete_rows['RELTYPE'] = complete_rows['RELTYPE'].astype(str).astype(int)\n",
    "complete_rows['SENTLGTH'] = complete_rows['SENTLGTH'].astype(str).astype(int)"
   ]
  },
  {
   "cell_type": "markdown",
   "metadata": {},
   "source": [
    "Convert relevant data types from object to categorical"
   ]
  },
  {
   "cell_type": "code",
   "execution_count": 12,
   "metadata": {},
   "outputs": [
    {
     "name": "stderr",
     "output_type": "stream",
     "text": [
      "<ipython-input-12-30e05d9d4249>:1: SettingWithCopyWarning: \n",
      "A value is trying to be set on a copy of a slice from a DataFrame.\n",
      "Try using .loc[row_indexer,col_indexer] = value instead\n",
      "\n",
      "See the caveats in the documentation: https://pandas.pydata.org/pandas-docs/stable/user_guide/indexing.html#returning-a-view-versus-a-copy\n",
      "  complete_rows['SEX'] = complete_rows['SEX'].astype(\"category\")\n",
      "<ipython-input-12-30e05d9d4249>:2: SettingWithCopyWarning: \n",
      "A value is trying to be set on a copy of a slice from a DataFrame.\n",
      "Try using .loc[row_indexer,col_indexer] = value instead\n",
      "\n",
      "See the caveats in the documentation: https://pandas.pydata.org/pandas-docs/stable/user_guide/indexing.html#returning-a-view-versus-a-copy\n",
      "  complete_rows['ADMTYPE'] = complete_rows['ADMTYPE'].astype(\"category\")\n",
      "<ipython-input-12-30e05d9d4249>:3: SettingWithCopyWarning: \n",
      "A value is trying to be set on a copy of a slice from a DataFrame.\n",
      "Try using .loc[row_indexer,col_indexer] = value instead\n",
      "\n",
      "See the caveats in the documentation: https://pandas.pydata.org/pandas-docs/stable/user_guide/indexing.html#returning-a-view-versus-a-copy\n",
      "  complete_rows['OFFGENERAL'] = complete_rows['OFFGENERAL'].astype(\"category\")\n",
      "<ipython-input-12-30e05d9d4249>:4: SettingWithCopyWarning: \n",
      "A value is trying to be set on a copy of a slice from a DataFrame.\n",
      "Try using .loc[row_indexer,col_indexer] = value instead\n",
      "\n",
      "See the caveats in the documentation: https://pandas.pydata.org/pandas-docs/stable/user_guide/indexing.html#returning-a-view-versus-a-copy\n",
      "  complete_rows['EDUCATION'] = complete_rows['EDUCATION'].astype(\"category\")\n",
      "<ipython-input-12-30e05d9d4249>:5: SettingWithCopyWarning: \n",
      "A value is trying to be set on a copy of a slice from a DataFrame.\n",
      "Try using .loc[row_indexer,col_indexer] = value instead\n",
      "\n",
      "See the caveats in the documentation: https://pandas.pydata.org/pandas-docs/stable/user_guide/indexing.html#returning-a-view-versus-a-copy\n",
      "  complete_rows['SENTLGTH'] = complete_rows['SENTLGTH'].astype(\"category\")\n",
      "<ipython-input-12-30e05d9d4249>:6: SettingWithCopyWarning: \n",
      "A value is trying to be set on a copy of a slice from a DataFrame.\n",
      "Try using .loc[row_indexer,col_indexer] = value instead\n",
      "\n",
      "See the caveats in the documentation: https://pandas.pydata.org/pandas-docs/stable/user_guide/indexing.html#returning-a-view-versus-a-copy\n",
      "  complete_rows['OFFDETAIL'] = complete_rows['OFFDETAIL'].astype(\"category\")\n",
      "<ipython-input-12-30e05d9d4249>:7: SettingWithCopyWarning: \n",
      "A value is trying to be set on a copy of a slice from a DataFrame.\n",
      "Try using .loc[row_indexer,col_indexer] = value instead\n",
      "\n",
      "See the caveats in the documentation: https://pandas.pydata.org/pandas-docs/stable/user_guide/indexing.html#returning-a-view-versus-a-copy\n",
      "  complete_rows['RACE'] = complete_rows['RACE'].astype(\"category\")\n",
      "<ipython-input-12-30e05d9d4249>:8: SettingWithCopyWarning: \n",
      "A value is trying to be set on a copy of a slice from a DataFrame.\n",
      "Try using .loc[row_indexer,col_indexer] = value instead\n",
      "\n",
      "See the caveats in the documentation: https://pandas.pydata.org/pandas-docs/stable/user_guide/indexing.html#returning-a-view-versus-a-copy\n",
      "  complete_rows['AGEADMIT'] = complete_rows['AGEADMIT'].astype(\"category\")\n",
      "<ipython-input-12-30e05d9d4249>:9: SettingWithCopyWarning: \n",
      "A value is trying to be set on a copy of a slice from a DataFrame.\n",
      "Try using .loc[row_indexer,col_indexer] = value instead\n",
      "\n",
      "See the caveats in the documentation: https://pandas.pydata.org/pandas-docs/stable/user_guide/indexing.html#returning-a-view-versus-a-copy\n",
      "  complete_rows['AGERELEASE'] = complete_rows['AGERELEASE'].astype(\"category\")\n",
      "<ipython-input-12-30e05d9d4249>:10: SettingWithCopyWarning: \n",
      "A value is trying to be set on a copy of a slice from a DataFrame.\n",
      "Try using .loc[row_indexer,col_indexer] = value instead\n",
      "\n",
      "See the caveats in the documentation: https://pandas.pydata.org/pandas-docs/stable/user_guide/indexing.html#returning-a-view-versus-a-copy\n",
      "  complete_rows['TIMESRVD'] = complete_rows['TIMESRVD'].astype(\"category\")\n",
      "<ipython-input-12-30e05d9d4249>:11: SettingWithCopyWarning: \n",
      "A value is trying to be set on a copy of a slice from a DataFrame.\n",
      "Try using .loc[row_indexer,col_indexer] = value instead\n",
      "\n",
      "See the caveats in the documentation: https://pandas.pydata.org/pandas-docs/stable/user_guide/indexing.html#returning-a-view-versus-a-copy\n",
      "  complete_rows['RELTYPE'] = complete_rows['RELTYPE'].astype(\"category\")\n",
      "<ipython-input-12-30e05d9d4249>:12: SettingWithCopyWarning: \n",
      "A value is trying to be set on a copy of a slice from a DataFrame.\n",
      "Try using .loc[row_indexer,col_indexer] = value instead\n",
      "\n",
      "See the caveats in the documentation: https://pandas.pydata.org/pandas-docs/stable/user_guide/indexing.html#returning-a-view-versus-a-copy\n",
      "  complete_rows['STATE'] = complete_rows['STATE'].astype(\"category\")\n"
     ]
    }
   ],
   "source": [
    "complete_rows['SEX'] = complete_rows['SEX'].astype(\"category\")\n",
    "complete_rows['ADMTYPE'] = complete_rows['ADMTYPE'].astype(\"category\")\n",
    "complete_rows['OFFGENERAL'] = complete_rows['OFFGENERAL'].astype(\"category\")\n",
    "complete_rows['EDUCATION'] = complete_rows['EDUCATION'].astype(\"category\")\n",
    "complete_rows['SENTLGTH'] = complete_rows['SENTLGTH'].astype(\"category\")\n",
    "complete_rows['OFFDETAIL'] = complete_rows['OFFDETAIL'].astype(\"category\")\n",
    "complete_rows['RACE'] = complete_rows['RACE'].astype(\"category\")\n",
    "complete_rows['AGEADMIT'] = complete_rows['AGEADMIT'].astype(\"category\")\n",
    "complete_rows['AGERELEASE'] = complete_rows['AGERELEASE'].astype(\"category\")\n",
    "complete_rows['TIMESRVD'] = complete_rows['TIMESRVD'].astype(\"category\")\n",
    "complete_rows['RELTYPE'] = complete_rows['RELTYPE'].astype(\"category\")\n",
    "complete_rows['STATE'] = complete_rows['STATE'].astype(\"category\")"
   ]
  },
  {
   "cell_type": "code",
   "execution_count": 13,
   "metadata": {},
   "outputs": [
    {
     "name": "stdout",
     "output_type": "stream",
     "text": [
      "ABT_INMATE_ID          object\n",
      "SEX                  category\n",
      "ADMTYPE              category\n",
      "OFFGENERAL           category\n",
      "EDUCATION            category\n",
      "ADMITYR                 int64\n",
      "RELEASEYR               int64\n",
      "MAND_PRISREL_YEAR       int32\n",
      "PROJ_PRISREL_YEAR       int32\n",
      "PARELIG_YEAR            int32\n",
      "SENTLGTH             category\n",
      "OFFDETAIL            category\n",
      "RACE                 category\n",
      "AGEADMIT             category\n",
      "AGERELEASE           category\n",
      "TIMESRVD             category\n",
      "RELTYPE              category\n",
      "STATE                category\n",
      "dtype: object\n"
     ]
    }
   ],
   "source": [
    "print(complete_rows.dtypes)"
   ]
  },
  {
   "cell_type": "code",
   "execution_count": 14,
   "metadata": {},
   "outputs": [
    {
     "name": "stdout",
     "output_type": "stream",
     "text": [
      "720189\n"
     ]
    }
   ],
   "source": [
    "print(len(complete_rows))"
   ]
  },
  {
   "cell_type": "markdown",
   "metadata": {},
   "source": [
    "As can be seen, eventhough we have dropped more than 90% of the data, we are still left with 720K rows which is more than enough to work with. "
   ]
  },
  {
   "cell_type": "code",
   "execution_count": 15,
   "metadata": {},
   "outputs": [
    {
     "data": {
      "text/html": [
       "<div>\n",
       "<style scoped>\n",
       "    .dataframe tbody tr th:only-of-type {\n",
       "        vertical-align: middle;\n",
       "    }\n",
       "\n",
       "    .dataframe tbody tr th {\n",
       "        vertical-align: top;\n",
       "    }\n",
       "\n",
       "    .dataframe thead th {\n",
       "        text-align: right;\n",
       "    }\n",
       "</style>\n",
       "<table border=\"1\" class=\"dataframe\">\n",
       "  <thead>\n",
       "    <tr style=\"text-align: right;\">\n",
       "      <th></th>\n",
       "      <th>ABT_INMATE_ID</th>\n",
       "      <th>SEX</th>\n",
       "      <th>ADMTYPE</th>\n",
       "      <th>OFFGENERAL</th>\n",
       "      <th>EDUCATION</th>\n",
       "      <th>ADMITYR</th>\n",
       "      <th>RELEASEYR</th>\n",
       "      <th>MAND_PRISREL_YEAR</th>\n",
       "      <th>PROJ_PRISREL_YEAR</th>\n",
       "      <th>PARELIG_YEAR</th>\n",
       "      <th>SENTLGTH</th>\n",
       "      <th>OFFDETAIL</th>\n",
       "      <th>RACE</th>\n",
       "      <th>AGEADMIT</th>\n",
       "      <th>AGERELEASE</th>\n",
       "      <th>TIMESRVD</th>\n",
       "      <th>RELTYPE</th>\n",
       "      <th>STATE</th>\n",
       "    </tr>\n",
       "  </thead>\n",
       "  <tbody>\n",
       "    <tr>\n",
       "      <th>6</th>\n",
       "      <td>A182015000000019353</td>\n",
       "      <td>2</td>\n",
       "      <td>3</td>\n",
       "      <td>3</td>\n",
       "      <td>9</td>\n",
       "      <td>2008</td>\n",
       "      <td>2009</td>\n",
       "      <td>2010</td>\n",
       "      <td>2009</td>\n",
       "      <td>2009</td>\n",
       "      <td>2</td>\n",
       "      <td>12</td>\n",
       "      <td>1</td>\n",
       "      <td>2</td>\n",
       "      <td>2</td>\n",
       "      <td>0</td>\n",
       "      <td>1</td>\n",
       "      <td>18</td>\n",
       "    </tr>\n",
       "    <tr>\n",
       "      <th>23</th>\n",
       "      <td>A442015000000038143</td>\n",
       "      <td>1</td>\n",
       "      <td>1</td>\n",
       "      <td>3</td>\n",
       "      <td>9</td>\n",
       "      <td>2007</td>\n",
       "      <td>2008</td>\n",
       "      <td>2008</td>\n",
       "      <td>2008</td>\n",
       "      <td>2007</td>\n",
       "      <td>1</td>\n",
       "      <td>12</td>\n",
       "      <td>2</td>\n",
       "      <td>4</td>\n",
       "      <td>4</td>\n",
       "      <td>1</td>\n",
       "      <td>2</td>\n",
       "      <td>44</td>\n",
       "    </tr>\n",
       "    <tr>\n",
       "      <th>287979</th>\n",
       "      <td>A042015000000273326</td>\n",
       "      <td>1</td>\n",
       "      <td>1</td>\n",
       "      <td>2</td>\n",
       "      <td>9</td>\n",
       "      <td>2012</td>\n",
       "      <td>2013</td>\n",
       "      <td>2013</td>\n",
       "      <td>2013</td>\n",
       "      <td>2013</td>\n",
       "      <td>3</td>\n",
       "      <td>10</td>\n",
       "      <td>1</td>\n",
       "      <td>5</td>\n",
       "      <td>5</td>\n",
       "      <td>1</td>\n",
       "      <td>1</td>\n",
       "      <td>4</td>\n",
       "    </tr>\n",
       "    <tr>\n",
       "      <th>404424</th>\n",
       "      <td>A042015000000190084</td>\n",
       "      <td>1</td>\n",
       "      <td>1</td>\n",
       "      <td>1</td>\n",
       "      <td>9</td>\n",
       "      <td>2012</td>\n",
       "      <td>2014</td>\n",
       "      <td>2014</td>\n",
       "      <td>2014</td>\n",
       "      <td>2014</td>\n",
       "      <td>3</td>\n",
       "      <td>1</td>\n",
       "      <td>1</td>\n",
       "      <td>4</td>\n",
       "      <td>4</td>\n",
       "      <td>1</td>\n",
       "      <td>1</td>\n",
       "      <td>4</td>\n",
       "    </tr>\n",
       "    <tr>\n",
       "      <th>488157</th>\n",
       "      <td>A042015000000224709</td>\n",
       "      <td>1</td>\n",
       "      <td>2</td>\n",
       "      <td>1</td>\n",
       "      <td>9</td>\n",
       "      <td>2012</td>\n",
       "      <td>2013</td>\n",
       "      <td>2013</td>\n",
       "      <td>2013</td>\n",
       "      <td>2011</td>\n",
       "      <td>4</td>\n",
       "      <td>3</td>\n",
       "      <td>1</td>\n",
       "      <td>5</td>\n",
       "      <td>5</td>\n",
       "      <td>0</td>\n",
       "      <td>1</td>\n",
       "      <td>4</td>\n",
       "    </tr>\n",
       "  </tbody>\n",
       "</table>\n",
       "</div>"
      ],
      "text/plain": [
       "              ABT_INMATE_ID SEX ADMTYPE OFFGENERAL EDUCATION  ADMITYR  \\\n",
       "6       A182015000000019353   2       3          3         9     2008   \n",
       "23      A442015000000038143   1       1          3         9     2007   \n",
       "287979  A042015000000273326   1       1          2         9     2012   \n",
       "404424  A042015000000190084   1       1          1         9     2012   \n",
       "488157  A042015000000224709   1       2          1         9     2012   \n",
       "\n",
       "        RELEASEYR  MAND_PRISREL_YEAR  PROJ_PRISREL_YEAR  PARELIG_YEAR  \\\n",
       "6            2009               2010               2009          2009   \n",
       "23           2008               2008               2008          2007   \n",
       "287979       2013               2013               2013          2013   \n",
       "404424       2014               2014               2014          2014   \n",
       "488157       2013               2013               2013          2011   \n",
       "\n",
       "       SENTLGTH OFFDETAIL RACE AGEADMIT AGERELEASE TIMESRVD RELTYPE STATE  \n",
       "6             2        12    1        2          2        0       1    18  \n",
       "23            1        12    2        4          4        1       2    44  \n",
       "287979        3        10    1        5          5        1       1     4  \n",
       "404424        3         1    1        4          4        1       1     4  \n",
       "488157        4         3    1        5          5        0       1     4  "
      ]
     },
     "execution_count": 15,
     "metadata": {},
     "output_type": "execute_result"
    }
   ],
   "source": [
    "complete_rows.head()"
   ]
  },
  {
   "cell_type": "markdown",
   "metadata": {},
   "source": [
    "Since the data file contains one record for each separate term in prison. An individual person may have more than one record, but all will be assigned the same Abt_Inmate_ID value. Thus, we iterate through the dataset to find deuplicate copies of Abt_Inmate_ID value which indicates that the felony has recommited a crime. We will mark 0 as non-repeated offender and 1 as repeated offender. "
   ]
  },
  {
   "cell_type": "code",
   "execution_count": 16,
   "metadata": {},
   "outputs": [],
   "source": [
    "repeat = complete_rows.set_index('ABT_INMATE_ID').index.duplicated(keep=False) #If the index is duplicated, TRUE, else FALSE\n",
    "repeat = repeat * 1 #Change true and false to 1 and 0.\n"
   ]
  },
  {
   "cell_type": "code",
   "execution_count": 17,
   "metadata": {},
   "outputs": [],
   "source": [
    "recividism = [x + 0 for x in repeat] #add 1 to all the numbers in repeat.\n",
    "se = pd.Series(recividism)\n",
    "complete_rows.insert(0, 'recidivism', se.values) #insert this row inside\n",
    "#it will be binary from now on"
   ]
  },
  {
   "cell_type": "code",
   "execution_count": 18,
   "metadata": {},
   "outputs": [
    {
     "data": {
      "text/html": [
       "<div>\n",
       "<style scoped>\n",
       "    .dataframe tbody tr th:only-of-type {\n",
       "        vertical-align: middle;\n",
       "    }\n",
       "\n",
       "    .dataframe tbody tr th {\n",
       "        vertical-align: top;\n",
       "    }\n",
       "\n",
       "    .dataframe thead th {\n",
       "        text-align: right;\n",
       "    }\n",
       "</style>\n",
       "<table border=\"1\" class=\"dataframe\">\n",
       "  <thead>\n",
       "    <tr style=\"text-align: right;\">\n",
       "      <th></th>\n",
       "      <th>recidivism</th>\n",
       "      <th>ABT_INMATE_ID</th>\n",
       "      <th>SEX</th>\n",
       "      <th>ADMTYPE</th>\n",
       "      <th>OFFGENERAL</th>\n",
       "      <th>EDUCATION</th>\n",
       "      <th>ADMITYR</th>\n",
       "      <th>RELEASEYR</th>\n",
       "      <th>MAND_PRISREL_YEAR</th>\n",
       "      <th>PROJ_PRISREL_YEAR</th>\n",
       "      <th>PARELIG_YEAR</th>\n",
       "      <th>SENTLGTH</th>\n",
       "      <th>OFFDETAIL</th>\n",
       "      <th>RACE</th>\n",
       "      <th>AGEADMIT</th>\n",
       "      <th>AGERELEASE</th>\n",
       "      <th>TIMESRVD</th>\n",
       "      <th>RELTYPE</th>\n",
       "      <th>STATE</th>\n",
       "    </tr>\n",
       "  </thead>\n",
       "  <tbody>\n",
       "    <tr>\n",
       "      <th>6</th>\n",
       "      <td>1</td>\n",
       "      <td>A182015000000019353</td>\n",
       "      <td>2</td>\n",
       "      <td>3</td>\n",
       "      <td>3</td>\n",
       "      <td>9</td>\n",
       "      <td>2008</td>\n",
       "      <td>2009</td>\n",
       "      <td>2010</td>\n",
       "      <td>2009</td>\n",
       "      <td>2009</td>\n",
       "      <td>2</td>\n",
       "      <td>12</td>\n",
       "      <td>1</td>\n",
       "      <td>2</td>\n",
       "      <td>2</td>\n",
       "      <td>0</td>\n",
       "      <td>1</td>\n",
       "      <td>18</td>\n",
       "    </tr>\n",
       "    <tr>\n",
       "      <th>23</th>\n",
       "      <td>1</td>\n",
       "      <td>A442015000000038143</td>\n",
       "      <td>1</td>\n",
       "      <td>1</td>\n",
       "      <td>3</td>\n",
       "      <td>9</td>\n",
       "      <td>2007</td>\n",
       "      <td>2008</td>\n",
       "      <td>2008</td>\n",
       "      <td>2008</td>\n",
       "      <td>2007</td>\n",
       "      <td>1</td>\n",
       "      <td>12</td>\n",
       "      <td>2</td>\n",
       "      <td>4</td>\n",
       "      <td>4</td>\n",
       "      <td>1</td>\n",
       "      <td>2</td>\n",
       "      <td>44</td>\n",
       "    </tr>\n",
       "    <tr>\n",
       "      <th>287979</th>\n",
       "      <td>0</td>\n",
       "      <td>A042015000000273326</td>\n",
       "      <td>1</td>\n",
       "      <td>1</td>\n",
       "      <td>2</td>\n",
       "      <td>9</td>\n",
       "      <td>2012</td>\n",
       "      <td>2013</td>\n",
       "      <td>2013</td>\n",
       "      <td>2013</td>\n",
       "      <td>2013</td>\n",
       "      <td>3</td>\n",
       "      <td>10</td>\n",
       "      <td>1</td>\n",
       "      <td>5</td>\n",
       "      <td>5</td>\n",
       "      <td>1</td>\n",
       "      <td>1</td>\n",
       "      <td>4</td>\n",
       "    </tr>\n",
       "    <tr>\n",
       "      <th>404424</th>\n",
       "      <td>0</td>\n",
       "      <td>A042015000000190084</td>\n",
       "      <td>1</td>\n",
       "      <td>1</td>\n",
       "      <td>1</td>\n",
       "      <td>9</td>\n",
       "      <td>2012</td>\n",
       "      <td>2014</td>\n",
       "      <td>2014</td>\n",
       "      <td>2014</td>\n",
       "      <td>2014</td>\n",
       "      <td>3</td>\n",
       "      <td>1</td>\n",
       "      <td>1</td>\n",
       "      <td>4</td>\n",
       "      <td>4</td>\n",
       "      <td>1</td>\n",
       "      <td>1</td>\n",
       "      <td>4</td>\n",
       "    </tr>\n",
       "    <tr>\n",
       "      <th>488157</th>\n",
       "      <td>0</td>\n",
       "      <td>A042015000000224709</td>\n",
       "      <td>1</td>\n",
       "      <td>2</td>\n",
       "      <td>1</td>\n",
       "      <td>9</td>\n",
       "      <td>2012</td>\n",
       "      <td>2013</td>\n",
       "      <td>2013</td>\n",
       "      <td>2013</td>\n",
       "      <td>2011</td>\n",
       "      <td>4</td>\n",
       "      <td>3</td>\n",
       "      <td>1</td>\n",
       "      <td>5</td>\n",
       "      <td>5</td>\n",
       "      <td>0</td>\n",
       "      <td>1</td>\n",
       "      <td>4</td>\n",
       "    </tr>\n",
       "  </tbody>\n",
       "</table>\n",
       "</div>"
      ],
      "text/plain": [
       "        recidivism        ABT_INMATE_ID SEX ADMTYPE OFFGENERAL EDUCATION  \\\n",
       "6                1  A182015000000019353   2       3          3         9   \n",
       "23               1  A442015000000038143   1       1          3         9   \n",
       "287979           0  A042015000000273326   1       1          2         9   \n",
       "404424           0  A042015000000190084   1       1          1         9   \n",
       "488157           0  A042015000000224709   1       2          1         9   \n",
       "\n",
       "        ADMITYR  RELEASEYR  MAND_PRISREL_YEAR  PROJ_PRISREL_YEAR  \\\n",
       "6          2008       2009               2010               2009   \n",
       "23         2007       2008               2008               2008   \n",
       "287979     2012       2013               2013               2013   \n",
       "404424     2012       2014               2014               2014   \n",
       "488157     2012       2013               2013               2013   \n",
       "\n",
       "        PARELIG_YEAR SENTLGTH OFFDETAIL RACE AGEADMIT AGERELEASE TIMESRVD  \\\n",
       "6               2009        2        12    1        2          2        0   \n",
       "23              2007        1        12    2        4          4        1   \n",
       "287979          2013        3        10    1        5          5        1   \n",
       "404424          2014        3         1    1        4          4        1   \n",
       "488157          2011        4         3    1        5          5        0   \n",
       "\n",
       "       RELTYPE STATE  \n",
       "6            1    18  \n",
       "23           2    44  \n",
       "287979       1     4  \n",
       "404424       1     4  \n",
       "488157       1     4  "
      ]
     },
     "execution_count": 18,
     "metadata": {},
     "output_type": "execute_result"
    }
   ],
   "source": [
    "complete_rows.head()"
   ]
  },
  {
   "cell_type": "markdown",
   "metadata": {},
   "source": [
    "We will proceed to drop 'ABT_INMATE_ID' as it will not be used for our machine learning model."
   ]
  },
  {
   "cell_type": "code",
   "execution_count": 19,
   "metadata": {},
   "outputs": [
    {
     "name": "stderr",
     "output_type": "stream",
     "text": [
      "C:\\Users\\jethr\\anaconda3\\lib\\site-packages\\pandas\\core\\frame.py:4163: SettingWithCopyWarning: \n",
      "A value is trying to be set on a copy of a slice from a DataFrame\n",
      "\n",
      "See the caveats in the documentation: https://pandas.pydata.org/pandas-docs/stable/user_guide/indexing.html#returning-a-view-versus-a-copy\n",
      "  return super().drop(\n"
     ]
    }
   ],
   "source": [
    "complete_rows.drop('ABT_INMATE_ID', axis=1, inplace = True)\n",
    "complete_rows['recidivism'] = complete_rows['recidivism'].astype(\"category\")"
   ]
  },
  {
   "cell_type": "markdown",
   "metadata": {},
   "source": [
    "Now I remove all the rows that have \"missing\""
   ]
  },
  {
   "cell_type": "code",
   "execution_count": 21,
   "metadata": {},
   "outputs": [],
   "source": [
    "complete_rows = complete_rows[complete_rows.RELEASEYR != 9999]\n",
    "complete_rows = complete_rows[complete_rows.ADMTYPE != 9]\n",
    "complete_rows = complete_rows[complete_rows.OFFGENERAL != 9]\n",
    "complete_rows = complete_rows[complete_rows.ADMITYR != 9999]\n",
    "complete_rows = complete_rows[complete_rows.OFFDETAIL != 99]\n",
    "complete_rows = complete_rows[complete_rows.RACE != 9]\n",
    "complete_rows = complete_rows[complete_rows.AGEADMIT != 9]\n",
    "complete_rows.drop('EDUCATION', axis=1, inplace=True) # missing all values\n",
    "complete_rows = complete_rows[complete_rows.MAND_PRISREL_YEAR != 9999]\n",
    "complete_rows = complete_rows[complete_rows.MAND_PRISREL_YEAR != 9993]\n",
    "complete_rows = complete_rows[complete_rows.PROJ_PRISREL_YEAR != 9999]\n",
    "complete_rows = complete_rows[complete_rows.PARELIG_YEAR != 9999]\n",
    "complete_rows = complete_rows[complete_rows.OFFDETAIL != 9]\n",
    "complete_rows = complete_rows[complete_rows.SENTLGTH != 9]\n",
    "complete_rows = complete_rows[complete_rows.AGERELEASE != 9]\n",
    "complete_rows = complete_rows[complete_rows.RELTYPE != 9]"
   ]
  },
  {
   "cell_type": "markdown",
   "metadata": {},
   "source": [
    "I created complete_rows2 as random forest and Decision Tree do not require standardScaling of continuous variables. "
   ]
  },
  {
   "cell_type": "code",
   "execution_count": 22,
   "metadata": {},
   "outputs": [],
   "source": [
    "complete_rows.head()\n",
    "complete_rows2 = complete_rows.copy()"
   ]
  },
  {
   "cell_type": "markdown",
   "metadata": {},
   "source": [
    "Applying StandardScaler for continuous variables (only applicable to neural network dataset)"
   ]
  },
  {
   "cell_type": "code",
   "execution_count": 23,
   "metadata": {},
   "outputs": [],
   "source": [
    "# demonstrate data standardization with sklearn\n",
    "from sklearn.preprocessing import StandardScaler\n",
    "columns = ['ADMITYR', 'RELEASEYR', 'MAND_PRISREL_YEAR', 'PROJ_PRISREL_YEAR', 'PARELIG_YEAR']\n",
    "for i in columns:\n",
    "    # load data\n",
    "    data = complete_rows[i].values.reshape(-1,1)\n",
    "    # create scaler\n",
    "    scaler = StandardScaler()\n",
    "    # fit and transform in one step\n",
    "    complete_rows[i] = scaler.fit_transform(data)"
   ]
  },
  {
   "cell_type": "code",
   "execution_count": 24,
   "metadata": {},
   "outputs": [
    {
     "data": {
      "text/html": [
       "<div>\n",
       "<style scoped>\n",
       "    .dataframe tbody tr th:only-of-type {\n",
       "        vertical-align: middle;\n",
       "    }\n",
       "\n",
       "    .dataframe tbody tr th {\n",
       "        vertical-align: top;\n",
       "    }\n",
       "\n",
       "    .dataframe thead th {\n",
       "        text-align: right;\n",
       "    }\n",
       "</style>\n",
       "<table border=\"1\" class=\"dataframe\">\n",
       "  <thead>\n",
       "    <tr style=\"text-align: right;\">\n",
       "      <th></th>\n",
       "      <th>recidivism</th>\n",
       "      <th>SEX</th>\n",
       "      <th>ADMTYPE</th>\n",
       "      <th>OFFGENERAL</th>\n",
       "      <th>ADMITYR</th>\n",
       "      <th>RELEASEYR</th>\n",
       "      <th>MAND_PRISREL_YEAR</th>\n",
       "      <th>PROJ_PRISREL_YEAR</th>\n",
       "      <th>PARELIG_YEAR</th>\n",
       "      <th>SENTLGTH</th>\n",
       "      <th>OFFDETAIL</th>\n",
       "      <th>RACE</th>\n",
       "      <th>AGEADMIT</th>\n",
       "      <th>AGERELEASE</th>\n",
       "      <th>TIMESRVD</th>\n",
       "      <th>RELTYPE</th>\n",
       "      <th>STATE</th>\n",
       "    </tr>\n",
       "  </thead>\n",
       "  <tbody>\n",
       "    <tr>\n",
       "      <th>6</th>\n",
       "      <td>1</td>\n",
       "      <td>2</td>\n",
       "      <td>3</td>\n",
       "      <td>3</td>\n",
       "      <td>0.281023</td>\n",
       "      <td>0.018399</td>\n",
       "      <td>-0.046774</td>\n",
       "      <td>-0.097914</td>\n",
       "      <td>0.015980</td>\n",
       "      <td>2</td>\n",
       "      <td>12</td>\n",
       "      <td>1</td>\n",
       "      <td>2</td>\n",
       "      <td>2</td>\n",
       "      <td>0</td>\n",
       "      <td>1</td>\n",
       "      <td>18</td>\n",
       "    </tr>\n",
       "    <tr>\n",
       "      <th>23</th>\n",
       "      <td>1</td>\n",
       "      <td>1</td>\n",
       "      <td>1</td>\n",
       "      <td>3</td>\n",
       "      <td>0.071847</td>\n",
       "      <td>-0.270770</td>\n",
       "      <td>-0.099855</td>\n",
       "      <td>-0.159550</td>\n",
       "      <td>-0.050625</td>\n",
       "      <td>1</td>\n",
       "      <td>12</td>\n",
       "      <td>2</td>\n",
       "      <td>4</td>\n",
       "      <td>4</td>\n",
       "      <td>1</td>\n",
       "      <td>2</td>\n",
       "      <td>44</td>\n",
       "    </tr>\n",
       "    <tr>\n",
       "      <th>287979</th>\n",
       "      <td>0</td>\n",
       "      <td>1</td>\n",
       "      <td>1</td>\n",
       "      <td>2</td>\n",
       "      <td>1.117729</td>\n",
       "      <td>1.175077</td>\n",
       "      <td>0.032847</td>\n",
       "      <td>0.148631</td>\n",
       "      <td>0.149188</td>\n",
       "      <td>3</td>\n",
       "      <td>10</td>\n",
       "      <td>1</td>\n",
       "      <td>5</td>\n",
       "      <td>5</td>\n",
       "      <td>1</td>\n",
       "      <td>1</td>\n",
       "      <td>4</td>\n",
       "    </tr>\n",
       "    <tr>\n",
       "      <th>404424</th>\n",
       "      <td>0</td>\n",
       "      <td>1</td>\n",
       "      <td>1</td>\n",
       "      <td>1</td>\n",
       "      <td>1.117729</td>\n",
       "      <td>1.464246</td>\n",
       "      <td>0.059387</td>\n",
       "      <td>0.210267</td>\n",
       "      <td>0.182490</td>\n",
       "      <td>3</td>\n",
       "      <td>1</td>\n",
       "      <td>1</td>\n",
       "      <td>4</td>\n",
       "      <td>4</td>\n",
       "      <td>1</td>\n",
       "      <td>1</td>\n",
       "      <td>4</td>\n",
       "    </tr>\n",
       "    <tr>\n",
       "      <th>488157</th>\n",
       "      <td>0</td>\n",
       "      <td>1</td>\n",
       "      <td>2</td>\n",
       "      <td>1</td>\n",
       "      <td>1.117729</td>\n",
       "      <td>1.175077</td>\n",
       "      <td>0.032847</td>\n",
       "      <td>0.148631</td>\n",
       "      <td>0.082584</td>\n",
       "      <td>4</td>\n",
       "      <td>3</td>\n",
       "      <td>1</td>\n",
       "      <td>5</td>\n",
       "      <td>5</td>\n",
       "      <td>0</td>\n",
       "      <td>1</td>\n",
       "      <td>4</td>\n",
       "    </tr>\n",
       "    <tr>\n",
       "      <th>491650</th>\n",
       "      <td>0</td>\n",
       "      <td>1</td>\n",
       "      <td>1</td>\n",
       "      <td>1</td>\n",
       "      <td>1.117729</td>\n",
       "      <td>1.464246</td>\n",
       "      <td>0.032847</td>\n",
       "      <td>0.148631</td>\n",
       "      <td>0.149188</td>\n",
       "      <td>3</td>\n",
       "      <td>3</td>\n",
       "      <td>1</td>\n",
       "      <td>3</td>\n",
       "      <td>3</td>\n",
       "      <td>1</td>\n",
       "      <td>1</td>\n",
       "      <td>4</td>\n",
       "    </tr>\n",
       "    <tr>\n",
       "      <th>743263</th>\n",
       "      <td>0</td>\n",
       "      <td>1</td>\n",
       "      <td>2</td>\n",
       "      <td>2</td>\n",
       "      <td>-1.392387</td>\n",
       "      <td>-2.294955</td>\n",
       "      <td>0.245169</td>\n",
       "      <td>-0.529367</td>\n",
       "      <td>0.382303</td>\n",
       "      <td>2</td>\n",
       "      <td>7</td>\n",
       "      <td>3</td>\n",
       "      <td>2</td>\n",
       "      <td>2</td>\n",
       "      <td>1</td>\n",
       "      <td>1</td>\n",
       "      <td>6</td>\n",
       "    </tr>\n",
       "    <tr>\n",
       "      <th>2086862</th>\n",
       "      <td>0</td>\n",
       "      <td>2</td>\n",
       "      <td>2</td>\n",
       "      <td>1</td>\n",
       "      <td>0.490200</td>\n",
       "      <td>0.018399</td>\n",
       "      <td>-0.073314</td>\n",
       "      <td>-0.406095</td>\n",
       "      <td>-0.117229</td>\n",
       "      <td>2</td>\n",
       "      <td>5</td>\n",
       "      <td>2</td>\n",
       "      <td>4</td>\n",
       "      <td>4</td>\n",
       "      <td>0</td>\n",
       "      <td>2</td>\n",
       "      <td>6</td>\n",
       "    </tr>\n",
       "    <tr>\n",
       "      <th>2942323</th>\n",
       "      <td>0</td>\n",
       "      <td>2</td>\n",
       "      <td>2</td>\n",
       "      <td>2</td>\n",
       "      <td>0.699376</td>\n",
       "      <td>0.596738</td>\n",
       "      <td>-0.020234</td>\n",
       "      <td>-0.221186</td>\n",
       "      <td>0.215792</td>\n",
       "      <td>2</td>\n",
       "      <td>11</td>\n",
       "      <td>1</td>\n",
       "      <td>3</td>\n",
       "      <td>3</td>\n",
       "      <td>0</td>\n",
       "      <td>1</td>\n",
       "      <td>6</td>\n",
       "    </tr>\n",
       "    <tr>\n",
       "      <th>3075560</th>\n",
       "      <td>0</td>\n",
       "      <td>1</td>\n",
       "      <td>1</td>\n",
       "      <td>1</td>\n",
       "      <td>1.326905</td>\n",
       "      <td>1.464246</td>\n",
       "      <td>0.085927</td>\n",
       "      <td>0.271903</td>\n",
       "      <td>0.182490</td>\n",
       "      <td>2</td>\n",
       "      <td>6</td>\n",
       "      <td>3</td>\n",
       "      <td>2</td>\n",
       "      <td>2</td>\n",
       "      <td>0</td>\n",
       "      <td>1</td>\n",
       "      <td>8</td>\n",
       "    </tr>\n",
       "  </tbody>\n",
       "</table>\n",
       "</div>"
      ],
      "text/plain": [
       "         recidivism SEX ADMTYPE OFFGENERAL   ADMITYR  RELEASEYR  \\\n",
       "6                 1   2       3          3  0.281023   0.018399   \n",
       "23                1   1       1          3  0.071847  -0.270770   \n",
       "287979            0   1       1          2  1.117729   1.175077   \n",
       "404424            0   1       1          1  1.117729   1.464246   \n",
       "488157            0   1       2          1  1.117729   1.175077   \n",
       "491650            0   1       1          1  1.117729   1.464246   \n",
       "743263            0   1       2          2 -1.392387  -2.294955   \n",
       "2086862           0   2       2          1  0.490200   0.018399   \n",
       "2942323           0   2       2          2  0.699376   0.596738   \n",
       "3075560           0   1       1          1  1.326905   1.464246   \n",
       "\n",
       "         MAND_PRISREL_YEAR  PROJ_PRISREL_YEAR  PARELIG_YEAR SENTLGTH  \\\n",
       "6                -0.046774          -0.097914      0.015980        2   \n",
       "23               -0.099855          -0.159550     -0.050625        1   \n",
       "287979            0.032847           0.148631      0.149188        3   \n",
       "404424            0.059387           0.210267      0.182490        3   \n",
       "488157            0.032847           0.148631      0.082584        4   \n",
       "491650            0.032847           0.148631      0.149188        3   \n",
       "743263            0.245169          -0.529367      0.382303        2   \n",
       "2086862          -0.073314          -0.406095     -0.117229        2   \n",
       "2942323          -0.020234          -0.221186      0.215792        2   \n",
       "3075560           0.085927           0.271903      0.182490        2   \n",
       "\n",
       "        OFFDETAIL RACE AGEADMIT AGERELEASE TIMESRVD RELTYPE STATE  \n",
       "6              12    1        2          2        0       1    18  \n",
       "23             12    2        4          4        1       2    44  \n",
       "287979         10    1        5          5        1       1     4  \n",
       "404424          1    1        4          4        1       1     4  \n",
       "488157          3    1        5          5        0       1     4  \n",
       "491650          3    1        3          3        1       1     4  \n",
       "743263          7    3        2          2        1       1     6  \n",
       "2086862         5    2        4          4        0       2     6  \n",
       "2942323        11    1        3          3        0       1     6  \n",
       "3075560         6    3        2          2        0       1     8  "
      ]
     },
     "execution_count": 24,
     "metadata": {},
     "output_type": "execute_result"
    }
   ],
   "source": [
    "complete_rows.head(10)"
   ]
  },
  {
   "cell_type": "code",
   "execution_count": 25,
   "metadata": {},
   "outputs": [
    {
     "data": {
      "text/html": [
       "<div>\n",
       "<style scoped>\n",
       "    .dataframe tbody tr th:only-of-type {\n",
       "        vertical-align: middle;\n",
       "    }\n",
       "\n",
       "    .dataframe tbody tr th {\n",
       "        vertical-align: top;\n",
       "    }\n",
       "\n",
       "    .dataframe thead th {\n",
       "        text-align: right;\n",
       "    }\n",
       "</style>\n",
       "<table border=\"1\" class=\"dataframe\">\n",
       "  <thead>\n",
       "    <tr style=\"text-align: right;\">\n",
       "      <th></th>\n",
       "      <th>recidivism</th>\n",
       "      <th>SEX</th>\n",
       "      <th>ADMTYPE</th>\n",
       "      <th>OFFGENERAL</th>\n",
       "      <th>ADMITYR</th>\n",
       "      <th>RELEASEYR</th>\n",
       "      <th>MAND_PRISREL_YEAR</th>\n",
       "      <th>PROJ_PRISREL_YEAR</th>\n",
       "      <th>PARELIG_YEAR</th>\n",
       "      <th>SENTLGTH</th>\n",
       "      <th>OFFDETAIL</th>\n",
       "      <th>RACE</th>\n",
       "      <th>AGEADMIT</th>\n",
       "      <th>AGERELEASE</th>\n",
       "      <th>TIMESRVD</th>\n",
       "      <th>RELTYPE</th>\n",
       "      <th>STATE</th>\n",
       "    </tr>\n",
       "  </thead>\n",
       "  <tbody>\n",
       "    <tr>\n",
       "      <th>6</th>\n",
       "      <td>1</td>\n",
       "      <td>2</td>\n",
       "      <td>3</td>\n",
       "      <td>3</td>\n",
       "      <td>2008</td>\n",
       "      <td>2009</td>\n",
       "      <td>2010</td>\n",
       "      <td>2009</td>\n",
       "      <td>2009</td>\n",
       "      <td>2</td>\n",
       "      <td>12</td>\n",
       "      <td>1</td>\n",
       "      <td>2</td>\n",
       "      <td>2</td>\n",
       "      <td>0</td>\n",
       "      <td>1</td>\n",
       "      <td>18</td>\n",
       "    </tr>\n",
       "    <tr>\n",
       "      <th>23</th>\n",
       "      <td>1</td>\n",
       "      <td>1</td>\n",
       "      <td>1</td>\n",
       "      <td>3</td>\n",
       "      <td>2007</td>\n",
       "      <td>2008</td>\n",
       "      <td>2008</td>\n",
       "      <td>2008</td>\n",
       "      <td>2007</td>\n",
       "      <td>1</td>\n",
       "      <td>12</td>\n",
       "      <td>2</td>\n",
       "      <td>4</td>\n",
       "      <td>4</td>\n",
       "      <td>1</td>\n",
       "      <td>2</td>\n",
       "      <td>44</td>\n",
       "    </tr>\n",
       "    <tr>\n",
       "      <th>287979</th>\n",
       "      <td>0</td>\n",
       "      <td>1</td>\n",
       "      <td>1</td>\n",
       "      <td>2</td>\n",
       "      <td>2012</td>\n",
       "      <td>2013</td>\n",
       "      <td>2013</td>\n",
       "      <td>2013</td>\n",
       "      <td>2013</td>\n",
       "      <td>3</td>\n",
       "      <td>10</td>\n",
       "      <td>1</td>\n",
       "      <td>5</td>\n",
       "      <td>5</td>\n",
       "      <td>1</td>\n",
       "      <td>1</td>\n",
       "      <td>4</td>\n",
       "    </tr>\n",
       "    <tr>\n",
       "      <th>404424</th>\n",
       "      <td>0</td>\n",
       "      <td>1</td>\n",
       "      <td>1</td>\n",
       "      <td>1</td>\n",
       "      <td>2012</td>\n",
       "      <td>2014</td>\n",
       "      <td>2014</td>\n",
       "      <td>2014</td>\n",
       "      <td>2014</td>\n",
       "      <td>3</td>\n",
       "      <td>1</td>\n",
       "      <td>1</td>\n",
       "      <td>4</td>\n",
       "      <td>4</td>\n",
       "      <td>1</td>\n",
       "      <td>1</td>\n",
       "      <td>4</td>\n",
       "    </tr>\n",
       "    <tr>\n",
       "      <th>488157</th>\n",
       "      <td>0</td>\n",
       "      <td>1</td>\n",
       "      <td>2</td>\n",
       "      <td>1</td>\n",
       "      <td>2012</td>\n",
       "      <td>2013</td>\n",
       "      <td>2013</td>\n",
       "      <td>2013</td>\n",
       "      <td>2011</td>\n",
       "      <td>4</td>\n",
       "      <td>3</td>\n",
       "      <td>1</td>\n",
       "      <td>5</td>\n",
       "      <td>5</td>\n",
       "      <td>0</td>\n",
       "      <td>1</td>\n",
       "      <td>4</td>\n",
       "    </tr>\n",
       "    <tr>\n",
       "      <th>491650</th>\n",
       "      <td>0</td>\n",
       "      <td>1</td>\n",
       "      <td>1</td>\n",
       "      <td>1</td>\n",
       "      <td>2012</td>\n",
       "      <td>2014</td>\n",
       "      <td>2013</td>\n",
       "      <td>2013</td>\n",
       "      <td>2013</td>\n",
       "      <td>3</td>\n",
       "      <td>3</td>\n",
       "      <td>1</td>\n",
       "      <td>3</td>\n",
       "      <td>3</td>\n",
       "      <td>1</td>\n",
       "      <td>1</td>\n",
       "      <td>4</td>\n",
       "    </tr>\n",
       "    <tr>\n",
       "      <th>743263</th>\n",
       "      <td>0</td>\n",
       "      <td>1</td>\n",
       "      <td>2</td>\n",
       "      <td>2</td>\n",
       "      <td>2000</td>\n",
       "      <td>2001</td>\n",
       "      <td>2021</td>\n",
       "      <td>2002</td>\n",
       "      <td>2020</td>\n",
       "      <td>2</td>\n",
       "      <td>7</td>\n",
       "      <td>3</td>\n",
       "      <td>2</td>\n",
       "      <td>2</td>\n",
       "      <td>1</td>\n",
       "      <td>1</td>\n",
       "      <td>6</td>\n",
       "    </tr>\n",
       "    <tr>\n",
       "      <th>2086862</th>\n",
       "      <td>0</td>\n",
       "      <td>2</td>\n",
       "      <td>2</td>\n",
       "      <td>1</td>\n",
       "      <td>2009</td>\n",
       "      <td>2009</td>\n",
       "      <td>2009</td>\n",
       "      <td>2004</td>\n",
       "      <td>2005</td>\n",
       "      <td>2</td>\n",
       "      <td>5</td>\n",
       "      <td>2</td>\n",
       "      <td>4</td>\n",
       "      <td>4</td>\n",
       "      <td>0</td>\n",
       "      <td>2</td>\n",
       "      <td>6</td>\n",
       "    </tr>\n",
       "    <tr>\n",
       "      <th>2942323</th>\n",
       "      <td>0</td>\n",
       "      <td>2</td>\n",
       "      <td>2</td>\n",
       "      <td>2</td>\n",
       "      <td>2010</td>\n",
       "      <td>2011</td>\n",
       "      <td>2011</td>\n",
       "      <td>2007</td>\n",
       "      <td>2015</td>\n",
       "      <td>2</td>\n",
       "      <td>11</td>\n",
       "      <td>1</td>\n",
       "      <td>3</td>\n",
       "      <td>3</td>\n",
       "      <td>0</td>\n",
       "      <td>1</td>\n",
       "      <td>6</td>\n",
       "    </tr>\n",
       "    <tr>\n",
       "      <th>3075560</th>\n",
       "      <td>0</td>\n",
       "      <td>1</td>\n",
       "      <td>1</td>\n",
       "      <td>1</td>\n",
       "      <td>2013</td>\n",
       "      <td>2014</td>\n",
       "      <td>2015</td>\n",
       "      <td>2015</td>\n",
       "      <td>2014</td>\n",
       "      <td>2</td>\n",
       "      <td>6</td>\n",
       "      <td>3</td>\n",
       "      <td>2</td>\n",
       "      <td>2</td>\n",
       "      <td>0</td>\n",
       "      <td>1</td>\n",
       "      <td>8</td>\n",
       "    </tr>\n",
       "  </tbody>\n",
       "</table>\n",
       "</div>"
      ],
      "text/plain": [
       "         recidivism SEX ADMTYPE OFFGENERAL  ADMITYR  RELEASEYR  \\\n",
       "6                 1   2       3          3     2008       2009   \n",
       "23                1   1       1          3     2007       2008   \n",
       "287979            0   1       1          2     2012       2013   \n",
       "404424            0   1       1          1     2012       2014   \n",
       "488157            0   1       2          1     2012       2013   \n",
       "491650            0   1       1          1     2012       2014   \n",
       "743263            0   1       2          2     2000       2001   \n",
       "2086862           0   2       2          1     2009       2009   \n",
       "2942323           0   2       2          2     2010       2011   \n",
       "3075560           0   1       1          1     2013       2014   \n",
       "\n",
       "         MAND_PRISREL_YEAR  PROJ_PRISREL_YEAR  PARELIG_YEAR SENTLGTH  \\\n",
       "6                     2010               2009          2009        2   \n",
       "23                    2008               2008          2007        1   \n",
       "287979                2013               2013          2013        3   \n",
       "404424                2014               2014          2014        3   \n",
       "488157                2013               2013          2011        4   \n",
       "491650                2013               2013          2013        3   \n",
       "743263                2021               2002          2020        2   \n",
       "2086862               2009               2004          2005        2   \n",
       "2942323               2011               2007          2015        2   \n",
       "3075560               2015               2015          2014        2   \n",
       "\n",
       "        OFFDETAIL RACE AGEADMIT AGERELEASE TIMESRVD RELTYPE STATE  \n",
       "6              12    1        2          2        0       1    18  \n",
       "23             12    2        4          4        1       2    44  \n",
       "287979         10    1        5          5        1       1     4  \n",
       "404424          1    1        4          4        1       1     4  \n",
       "488157          3    1        5          5        0       1     4  \n",
       "491650          3    1        3          3        1       1     4  \n",
       "743263          7    3        2          2        1       1     6  \n",
       "2086862         5    2        4          4        0       2     6  \n",
       "2942323        11    1        3          3        0       1     6  \n",
       "3075560         6    3        2          2        0       1     8  "
      ]
     },
     "execution_count": 25,
     "metadata": {},
     "output_type": "execute_result"
    }
   ],
   "source": [
    "complete_rows2.head(10)"
   ]
  },
  {
   "cell_type": "markdown",
   "metadata": {},
   "source": [
    "Checking of class imbalance in dataset to see if under/oversampling of dataset is required"
   ]
  },
  {
   "cell_type": "code",
   "execution_count": 26,
   "metadata": {},
   "outputs": [],
   "source": [
    "#to check for class imbalance in data set\n",
    "def print_data_perc(data_frame, col):\n",
    "    \"\"\"Function used to print class distribution\"\"\"\n",
    "    try:\n",
    "        # Stores value counts\n",
    "        col_vals = data_frame[col].value_counts()\n",
    "        # Resets index to make index a column in data frame\n",
    "        col_vals = col_vals.reset_index()\n",
    "        # If the number of unique instances in column exceeds 20 print warning\n",
    "        if len(col_vals['index']) > 20:\n",
    "            print('Warning: values in column are more than 20 \\nPlease try a column with lower value counts!')\n",
    "        # Else it calculates/prints percentage for each unique value in column\n",
    "        else:\n",
    "            # Create a function to output the percentage\n",
    "            f = lambda x, y: 100 * (x / sum(y))\n",
    "            for i in range(0, len(col_vals['index'])):\n",
    "                print('{0} accounts for {1:.2f}% of the {2} column'\\\n",
    "                      .format(col_vals['index'][i],\n",
    "                              f(col_vals[col].iloc[i],\n",
    "                                col_vals[col]),\n",
    "                              col))\n",
    "    # try-except block goes here if it can't find the column in data frame\n",
    "    except KeyError as e:\n",
    "        print('{0}: Not found'.format(e))\n",
    "        print('Please choose the right column name!')"
   ]
  },
  {
   "cell_type": "code",
   "execution_count": 27,
   "metadata": {},
   "outputs": [
    {
     "name": "stdout",
     "output_type": "stream",
     "text": [
      "0 accounts for 54.45% of the recidivism column\n",
      "1 accounts for 45.55% of the recidivism column\n"
     ]
    }
   ],
   "source": [
    "print_data_perc(complete_rows, 'recidivism') "
   ]
  },
  {
   "cell_type": "code",
   "execution_count": 28,
   "metadata": {},
   "outputs": [
    {
     "name": "stdout",
     "output_type": "stream",
     "text": [
      "0 accounts for 54.45% of the recidivism column\n",
      "1 accounts for 45.55% of the recidivism column\n"
     ]
    }
   ],
   "source": [
    "print_data_perc(complete_rows2, 'recidivism') "
   ]
  },
  {
   "cell_type": "markdown",
   "metadata": {},
   "source": [
    "# Train-test split for Neural Network, Random Forest and Decision Tree"
   ]
  },
  {
   "cell_type": "markdown",
   "metadata": {},
   "source": [
    "X1,y1 are the datasets for neural network. X2,y2 are datasets for Random Forest and Decision Tree"
   ]
  },
  {
   "cell_type": "code",
   "execution_count": 29,
   "metadata": {},
   "outputs": [],
   "source": [
    "X1 = complete_rows.iloc[:, 1:17]\n",
    "y1 = complete_rows.iloc[:, 0:1]"
   ]
  },
  {
   "cell_type": "code",
   "execution_count": 30,
   "metadata": {},
   "outputs": [],
   "source": [
    "from sklearn.model_selection import train_test_split\n",
    "\n",
    "X_train, X_test, y_train, y_test = train_test_split(X1, y1, test_size=0.3, random_state=42)"
   ]
  },
  {
   "cell_type": "code",
   "execution_count": 31,
   "metadata": {},
   "outputs": [],
   "source": [
    "X2 = complete_rows2.iloc[:, 1:17]\n",
    "y2 = complete_rows2.iloc[:, 0:1]"
   ]
  },
  {
   "cell_type": "code",
   "execution_count": 32,
   "metadata": {},
   "outputs": [],
   "source": [
    "from sklearn.model_selection import train_test_split\n",
    "X_train2, X_test2, y_train2, y_test2 = train_test_split(X2, y2, test_size=0.3, random_state=42)"
   ]
  },
  {
   "cell_type": "code",
   "execution_count": 33,
   "metadata": {},
   "outputs": [
    {
     "name": "stdout",
     "output_type": "stream",
     "text": [
      "Train1 (462720, 16) (462720, 1)\n",
      "Test1 (198309, 16) (198309, 1)\n",
      "Train2 (462720, 16) (462720, 1)\n",
      "Test2 (198309, 16) (198309, 1)\n"
     ]
    }
   ],
   "source": [
    "print('Train1', X_train.shape, y_train.shape)\n",
    "print('Test1', X_test.shape, y_test.shape)\n",
    "print('Train2', X_train2.shape, y_train2.shape)\n",
    "print('Test2', X_test2.shape, y_test2.shape)"
   ]
  },
  {
   "cell_type": "markdown",
   "metadata": {},
   "source": [
    "# Training Neural Network Model"
   ]
  },
  {
   "cell_type": "markdown",
   "metadata": {},
   "source": [
    "Sigmoid and tanh should not be used as activation function for the hidden layer. This is because of the vanishing gradient problem, i.e., if your input is on a higher side (where sigmoid goes flat) then the gradient will be near zero. This will cause very slow or no learning during backpropagation as weights will be updated with really small values.\n",
    "\n",
    "Detailed explanation here: http://cs231n.github.io/neural-networks-1/#actfun\n",
    "\n",
    "The best function for hidden layers is thus ReLu."
   ]
  },
  {
   "cell_type": "markdown",
   "metadata": {},
   "source": [
    "https://stats.stackexchange.com/questions/181/how-to-choose-the-number-of-hidden-layers-and-nodes-in-a-feedforward-neural-netw#:~:text=However%2C%20neural%20networks%20with%20two,more%20than%20one%20hidden%20layer."
   ]
  },
  {
   "cell_type": "code",
   "execution_count": 34,
   "metadata": {},
   "outputs": [],
   "source": [
    "import keras\n",
    "# Import `Sequential` from `keras.models`\n",
    "from keras.models import Sequential\n",
    "\n",
    "# Import `Dense` from `keras.layers`\n",
    "from keras.layers import Dense\n",
    "\n",
    "# Initialize the constructor\n",
    "model = Sequential()\n",
    "\n",
    "# Add an input layer of one-dimensional array with 16 elements for input.(Thus no need to flattenlayer) It would produce 17 outputs in return\n",
    "model.add(Dense(15, activation='relu', input_shape=(16,)))\n",
    "\n",
    "#Adding another hidden layer\n",
    "model.add(Dense(15, activation='relu'))\n",
    "\n",
    "# Add an output layer \n",
    "model.add(Dense(1, activation='sigmoid'))\n"
   ]
  },
  {
   "cell_type": "code",
   "execution_count": 35,
   "metadata": {},
   "outputs": [
    {
     "name": "stdout",
     "output_type": "stream",
     "text": [
      "Model: \"sequential\"\n",
      "_________________________________________________________________\n",
      "Layer (type)                 Output Shape              Param #   \n",
      "=================================================================\n",
      "dense (Dense)                (None, 15)                255       \n",
      "_________________________________________________________________\n",
      "dense_1 (Dense)              (None, 15)                240       \n",
      "_________________________________________________________________\n",
      "dense_2 (Dense)              (None, 1)                 16        \n",
      "=================================================================\n",
      "Total params: 511\n",
      "Trainable params: 511\n",
      "Non-trainable params: 0\n",
      "_________________________________________________________________\n"
     ]
    },
    {
     "data": {
      "text/plain": [
       "[array([[-0.2186586 ,  0.35513806,  0.00496298, -0.00116113,  0.05735415,\n",
       "          0.20402181,  0.25006658,  0.09821099, -0.37063378,  0.18102902,\n",
       "          0.3451761 , -0.01311097, -0.31107283, -0.35037214,  0.41158313],\n",
       "        [ 0.3506471 ,  0.30627632, -0.35751498,  0.04330182, -0.10499436,\n",
       "         -0.22535941,  0.29160702, -0.2698148 , -0.11350566, -0.08031747,\n",
       "          0.43991745,  0.00129268,  0.01901627,  0.05360383,  0.19328684],\n",
       "        [ 0.28616393, -0.31721532,  0.04821077,  0.4008667 ,  0.31757718,\n",
       "         -0.38745242, -0.22978902, -0.10865366, -0.41072   , -0.3432525 ,\n",
       "          0.40961677, -0.05733454, -0.12943503,  0.10707116,  0.26566422],\n",
       "        [ 0.13885278,  0.14245743, -0.18787321,  0.04673874, -0.41588983,\n",
       "          0.316231  , -0.34919056,  0.13625193,  0.39271098,  0.00582707,\n",
       "          0.43377948, -0.19085431, -0.05878037,  0.33528948, -0.19605865],\n",
       "        [ 0.25205016, -0.3227447 , -0.16584376, -0.28376132, -0.04935262,\n",
       "         -0.21950674,  0.3872524 ,  0.15308815, -0.3367892 , -0.17197376,\n",
       "         -0.17022955,  0.37207836,  0.29457468,  0.17161053, -0.12673661],\n",
       "        [-0.25945365,  0.15516144, -0.42582187, -0.07712156, -0.43765768,\n",
       "         -0.29256707,  0.02919072,  0.31143606, -0.02024516,  0.01003578,\n",
       "         -0.28476354,  0.02136046, -0.3927569 ,  0.09927154, -0.07010064],\n",
       "        [-0.20564885, -0.3607099 ,  0.12755454, -0.39334986, -0.0809899 ,\n",
       "         -0.28449136, -0.291961  , -0.22244765, -0.23762234,  0.3024696 ,\n",
       "         -0.34319672, -0.1096715 , -0.01511887, -0.3348935 ,  0.25598598],\n",
       "        [-0.26270095, -0.10765719,  0.07293034,  0.39526266,  0.10680264,\n",
       "         -0.18633449,  0.33296907, -0.05610892, -0.3383702 ,  0.34995103,\n",
       "          0.13715881,  0.36442798,  0.06904596,  0.07525486, -0.356971  ],\n",
       "        [-0.06717199,  0.01667324, -0.397452  , -0.41680047, -0.03729591,\n",
       "         -0.23870847,  0.14423817, -0.12758467, -0.28325772,  0.41215622,\n",
       "          0.40211928,  0.40747964, -0.29498392, -0.16269329,  0.03696465],\n",
       "        [-0.27957422, -0.18913779, -0.1982369 , -0.21431929, -0.2960878 ,\n",
       "         -0.39065334,  0.10844165,  0.36270398, -0.30590355, -0.13731334,\n",
       "          0.321505  , -0.3049547 ,  0.25197804,  0.211303  ,  0.12385792],\n",
       "        [ 0.32461083,  0.14251673,  0.19571346, -0.05097014, -0.2412743 ,\n",
       "          0.2244438 , -0.21050182,  0.03443292,  0.37755442, -0.35759825,\n",
       "         -0.00174505, -0.21507797, -0.22563149, -0.32612628,  0.37692785],\n",
       "        [ 0.07120913,  0.15523928, -0.28912845,  0.0134784 , -0.22554831,\n",
       "          0.09360927, -0.0157885 ,  0.34762454,  0.24684525,  0.25798547,\n",
       "          0.35674793, -0.33974048, -0.17868957,  0.22976017,  0.06700718],\n",
       "        [ 0.20656478,  0.0449124 ,  0.02291524, -0.40264732, -0.4366612 ,\n",
       "         -0.32043052,  0.35431916, -0.3516857 ,  0.30391353,  0.39724022,\n",
       "         -0.12899143,  0.43256128, -0.39219385, -0.26892638, -0.02489033],\n",
       "        [-0.04459783, -0.23456416,  0.432759  ,  0.3571142 ,  0.30918628,\n",
       "          0.1297456 , -0.34617633,  0.2568335 ,  0.42070335,  0.1238429 ,\n",
       "          0.01535016, -0.40306824,  0.22936809,  0.00560451, -0.07801345],\n",
       "        [ 0.2772895 , -0.23965542,  0.05761471,  0.376817  ,  0.34560686,\n",
       "          0.07950664,  0.14345598, -0.28322187,  0.4158666 ,  0.08362913,\n",
       "          0.3132915 ,  0.42698258,  0.18373072,  0.01324898,  0.32182556],\n",
       "        [-0.03237864, -0.32369387,  0.36671174,  0.00643101,  0.40000933,\n",
       "         -0.15103066,  0.08483654, -0.02281541, -0.1356352 , -0.29557174,\n",
       "         -0.40967318,  0.08348978,  0.41233623,  0.20586914,  0.21719748]],\n",
       "       dtype=float32),\n",
       " array([0., 0., 0., 0., 0., 0., 0., 0., 0., 0., 0., 0., 0., 0., 0.],\n",
       "       dtype=float32),\n",
       " array([[ 3.05417299e-01, -9.86471772e-02, -1.24951959e-01,\n",
       "          2.47815967e-01, -5.99193573e-03,  3.44544232e-01,\n",
       "          4.33279216e-01, -3.13953817e-01, -3.06054145e-01,\n",
       "          2.63121903e-01,  1.06242537e-01, -3.54453444e-01,\n",
       "          1.68394089e-01,  8.10997486e-02, -3.18836123e-01],\n",
       "        [ 3.09624135e-01, -3.32657397e-02,  3.55522931e-02,\n",
       "          1.65512383e-01, -1.28532708e-01, -2.87296832e-01,\n",
       "          1.59634709e-01, -4.37897116e-01,  4.09569144e-01,\n",
       "         -3.12784374e-01, -2.80268937e-01, -2.23717898e-01,\n",
       "          9.61453319e-02, -3.27788174e-01,  2.60372877e-01],\n",
       "        [ 4.35218394e-01,  2.67452419e-01,  3.23728681e-01,\n",
       "          2.18498766e-01, -1.80175424e-01, -2.64339954e-01,\n",
       "         -1.50902748e-01,  2.76389837e-01,  1.81669533e-01,\n",
       "          2.01800704e-01, -3.73286128e-01,  1.42348111e-01,\n",
       "         -3.07348251e-01,  2.45627940e-01,  3.77267897e-02],\n",
       "        [-2.31154397e-01,  2.63542533e-02, -4.29119498e-01,\n",
       "          1.02712929e-01,  3.65804732e-01, -7.25995600e-02,\n",
       "          2.80976474e-01,  2.96295464e-01,  3.78776133e-01,\n",
       "          4.46392238e-01, -8.29656422e-02,  3.78561258e-01,\n",
       "         -5.48418462e-02, -2.99074650e-01, -1.35977626e-01],\n",
       "        [-1.35621399e-01,  3.19006622e-01,  3.29265118e-01,\n",
       "          9.49168205e-03, -2.47518614e-01, -2.44173288e-01,\n",
       "          3.85173857e-02,  2.85953939e-01,  3.10842097e-02,\n",
       "         -5.97515702e-02,  3.87766242e-01, -3.07370186e-01,\n",
       "         -1.62693024e-01,  1.00191593e-01,  2.77283013e-01],\n",
       "        [ 3.70028853e-01, -2.22705185e-01,  3.74232233e-02,\n",
       "         -1.35341078e-01, -1.30746871e-01,  3.58424485e-01,\n",
       "         -2.73685217e-01, -1.02218390e-02, -1.26689702e-01,\n",
       "         -3.11583042e-01,  3.72984529e-01, -2.66855299e-01,\n",
       "         -9.86590981e-02, -6.45650029e-02,  1.08458996e-02],\n",
       "        [ 3.06575298e-01,  2.73205101e-01, -1.68426722e-01,\n",
       "         -3.31393570e-01, -3.43615025e-01, -3.37129503e-01,\n",
       "         -2.60232449e-01,  4.03926790e-01,  4.31031287e-01,\n",
       "          2.70781398e-01, -1.42981648e-01, -1.13019884e-01,\n",
       "         -2.47182861e-01,  1.03558183e-01,  2.87576079e-01],\n",
       "        [-2.12237239e-02,  2.95479834e-01,  1.19968534e-01,\n",
       "         -1.72222555e-01,  1.12955391e-01,  2.88004696e-01,\n",
       "         -2.91195989e-01,  2.55791903e-01,  2.92902052e-01,\n",
       "          2.50818431e-01, -2.05025077e-02, -2.91757673e-01,\n",
       "          6.44026399e-02,  4.23942268e-01,  3.90231669e-01],\n",
       "        [-4.18694109e-01,  7.21353292e-03,  2.58078158e-01,\n",
       "         -2.60671020e-01,  1.62088871e-01, -2.38755643e-02,\n",
       "         -7.42130876e-02, -3.93233031e-01, -3.00107062e-01,\n",
       "          4.07584310e-02,  2.91299164e-01,  3.82356524e-01,\n",
       "         -3.02952558e-01, -1.82846665e-01, -3.98050755e-01],\n",
       "        [ 2.64871240e-01,  2.70932615e-01, -8.87196064e-02,\n",
       "         -3.83118898e-01,  5.82137108e-02, -4.20684367e-01,\n",
       "          2.39818335e-01,  4.34183776e-02,  2.99259186e-01,\n",
       "          2.60956466e-01,  4.03272212e-02,  3.13209772e-01,\n",
       "         -2.38505363e-01, -1.87810242e-01, -4.15401340e-01],\n",
       "        [-3.53749424e-01,  1.35899067e-01,  4.14300978e-01,\n",
       "         -2.05428675e-01, -2.81272382e-01, -2.56254435e-01,\n",
       "         -1.85579330e-01, -2.26174831e-01,  1.89140916e-01,\n",
       "          2.81238377e-01, -3.50641131e-01, -1.68987244e-01,\n",
       "          8.16885233e-02, -4.43314016e-01, -1.78379536e-01],\n",
       "        [ 2.06476927e-01, -3.63154948e-01,  3.78211558e-01,\n",
       "         -1.44871354e-01, -8.74940753e-02, -3.63029242e-01,\n",
       "         -1.46332830e-01,  2.53936946e-01,  2.85655379e-01,\n",
       "          4.21434879e-01,  1.78753138e-01, -1.83128804e-01,\n",
       "          3.46556664e-01,  2.24645019e-01,  3.92909348e-01],\n",
       "        [ 5.90919852e-02,  3.95775080e-01,  4.41180706e-01,\n",
       "          2.70195901e-02, -6.74190223e-02,  2.68251956e-01,\n",
       "          3.64293993e-01,  3.09450209e-01, -1.05902195e-01,\n",
       "         -2.83336401e-01, -4.26378608e-01, -3.76533598e-01,\n",
       "          4.36143458e-01,  1.74832582e-01, -7.85712600e-02],\n",
       "        [ 1.63208127e-01, -6.59523904e-02,  1.06074810e-01,\n",
       "         -3.64565045e-01, -3.76392186e-01, -2.87976146e-01,\n",
       "          3.02586198e-01,  2.17368662e-01,  5.75610995e-03,\n",
       "         -3.43882322e-01, -1.88975424e-01, -3.67278308e-01,\n",
       "          4.24867511e-01,  4.00578797e-01,  1.25202596e-01],\n",
       "        [ 3.25940192e-01, -1.45122349e-01, -1.48491114e-01,\n",
       "          3.08432937e-01,  1.26094639e-01, -2.15381384e-04,\n",
       "          4.22184110e-01,  1.38626039e-01,  1.60079002e-02,\n",
       "          3.70243847e-01, -2.06003487e-01, -2.23986477e-01,\n",
       "          7.92202950e-02, -4.24009204e-01,  9.08799171e-02]], dtype=float32),\n",
       " array([0., 0., 0., 0., 0., 0., 0., 0., 0., 0., 0., 0., 0., 0., 0.],\n",
       "       dtype=float32),\n",
       " array([[-0.07839125],\n",
       "        [ 0.537113  ],\n",
       "        [-0.24032533],\n",
       "        [ 0.505819  ],\n",
       "        [ 0.3023026 ],\n",
       "        [-0.4376896 ],\n",
       "        [-0.51165926],\n",
       "        [ 0.42788535],\n",
       "        [ 0.13383776],\n",
       "        [-0.48233086],\n",
       "        [ 0.00971079],\n",
       "        [-0.2326613 ],\n",
       "        [-0.36454237],\n",
       "        [ 0.04759735],\n",
       "        [ 0.19278628]], dtype=float32),\n",
       " array([0.], dtype=float32)]"
      ]
     },
     "execution_count": 35,
     "metadata": {},
     "output_type": "execute_result"
    }
   ],
   "source": [
    "# Model output shape\n",
    "model.output_shape\n",
    "\n",
    "# Model summary\n",
    "model.summary()\n",
    "\n",
    "# Model config\n",
    "model.get_config()\n",
    "\n",
    "# List all weight tensors \n",
    "model.get_weights()"
   ]
  },
  {
   "cell_type": "markdown",
   "metadata": {},
   "source": [
    "We used binary_crossentropy because our target variable y is a binary variable"
   ]
  },
  {
   "cell_type": "code",
   "execution_count": 36,
   "metadata": {
    "scrolled": true
   },
   "outputs": [],
   "source": [
    "# An epoch is a single pass through the entire training set, followed by testing of the verification set. \n",
    "#The batch size that you specify in the code above defines the number of samples that going to be propagated through the network. \n",
    "#Also, by doing this, you optimize the efficiency because you make sure that you don’t load too many input patterns into memory at the same time.\n",
    "model.compile(loss='binary_crossentropy',\n",
    "              optimizer='adam',\n",
    "              metrics=['accuracy'])\n",
    "                   \n"
   ]
  },
  {
   "cell_type": "code",
   "execution_count": 37,
   "metadata": {},
   "outputs": [],
   "source": [
    "#https://datascience.stackexchange.com/questions/38955/how-does-the-validation-split-parameter-of-keras-fit-function-work"
   ]
  },
  {
   "cell_type": "markdown",
   "metadata": {},
   "source": [
    "tensorboard --logdir ./Graph\n",
    "http://localhost:6006"
   ]
  },
  {
   "cell_type": "code",
   "execution_count": 38,
   "metadata": {},
   "outputs": [
    {
     "name": "stdout",
     "output_type": "stream",
     "text": [
      "Epoch 1/20\n",
      "7230/7230 [==============================] - 7s 877us/step - loss: 0.6534 - accuracy: 0.6195\n",
      "Epoch 2/20\n",
      "7230/7230 [==============================] - 6s 857us/step - loss: 0.6025 - accuracy: 0.6652\n",
      "Epoch 3/20\n",
      "7230/7230 [==============================] - 6s 865us/step - loss: 0.5656 - accuracy: 0.7020\n",
      "Epoch 4/20\n",
      "7230/7230 [==============================] - 6s 879us/step - loss: 0.5424 - accuracy: 0.7248\n",
      "Epoch 5/20\n",
      "7230/7230 [==============================] - 6s 867us/step - loss: 0.5297 - accuracy: 0.7305\n",
      "Epoch 6/20\n",
      "7230/7230 [==============================] - 6s 815us/step - loss: 0.5176 - accuracy: 0.7388\n",
      "Epoch 7/20\n",
      "7230/7230 [==============================] - 6s 836us/step - loss: 0.5075 - accuracy: 0.7434\n",
      "Epoch 8/20\n",
      "7230/7230 [==============================] - 6s 835us/step - loss: 0.5011 - accuracy: 0.74600s - loss: 0.5011 - ac\n",
      "Epoch 9/20\n",
      "7230/7230 [==============================] - 6s 837us/step - loss: 0.4969 - accuracy: 0.7481\n",
      "Epoch 10/20\n",
      "7230/7230 [==============================] - 6s 871us/step - loss: 0.4935 - accuracy: 0.7493\n",
      "Epoch 11/20\n",
      "7230/7230 [==============================] - 6s 866us/step - loss: 0.4939 - accuracy: 0.7490\n",
      "Epoch 12/20\n",
      "7230/7230 [==============================] - 6s 856us/step - loss: 0.4909 - accuracy: 0.7511\n",
      "Epoch 13/20\n",
      "7230/7230 [==============================] - 6s 843us/step - loss: 0.4887 - accuracy: 0.7533\n",
      "Epoch 14/20\n",
      "7230/7230 [==============================] - 6s 847us/step - loss: 0.4885 - accuracy: 0.7530\n",
      "Epoch 15/20\n",
      "7230/7230 [==============================] - 6s 853us/step - loss: 0.4874 - accuracy: 0.7541\n",
      "Epoch 16/20\n",
      "7230/7230 [==============================] - 6s 856us/step - loss: 0.4847 - accuracy: 0.7556\n",
      "Epoch 17/20\n",
      "7230/7230 [==============================] - 6s 850us/step - loss: 0.4845 - accuracy: 0.7558\n",
      "Epoch 18/20\n",
      "7230/7230 [==============================] - 6s 852us/step - loss: 0.4841 - accuracy: 0.7556\n",
      "Epoch 19/20\n",
      "7230/7230 [==============================] - 6s 842us/step - loss: 0.4823 - accuracy: 0.7566\n",
      "Epoch 20/20\n",
      "7230/7230 [==============================] - 6s 887us/step - loss: 0.4819 - accuracy: 0.7566\n"
     ]
    },
    {
     "data": {
      "text/plain": [
       "<tensorflow.python.keras.callbacks.History at 0x2d141094220>"
      ]
     },
     "execution_count": 38,
     "metadata": {},
     "output_type": "execute_result"
    }
   ],
   "source": [
    "#It is the parameter specifying how big chunk of training data will be used for validation. It’s a float value between 0 and 1. Validation data is not used for the training, but to evaluate the loss and the accuracy.\n",
    "\n",
    "#For example: validation_split=0.3 will cause that 30% of the training data will be used for validation\n",
    "model.fit(X_train, y_train,epochs=20, batch_size=64, verbose=1, callbacks=[keras.callbacks.TensorBoard(log_dir='./Graph', write_graph=True, write_images=True)])"
   ]
  },
  {
   "cell_type": "code",
   "execution_count": null,
   "metadata": {},
   "outputs": [],
   "source": [
    "from ann_visualizer.visualize import ann_viz;\n",
    "\n",
    "ann_viz(model, filename= \"nn1.gv\", title=\"My first neural network\")"
   ]
  },
  {
   "cell_type": "markdown",
   "metadata": {},
   "source": [
    "Customizing Score for NN"
   ]
  },
  {
   "cell_type": "code",
   "execution_count": 50,
   "metadata": {},
   "outputs": [],
   "source": [
    "from sklearn.metrics import confusion_matrix, precision_score, recall_score, f1_score, cohen_kappa_score, accuracy_score\n",
    "def my_custom_loss_func(y_test, y_pred):\n",
    "    rounded = [round(x[0]) for x in y_pred]\n",
    "    return accuracy_score(y_test, rounded)"
   ]
  },
  {
   "cell_type": "code",
   "execution_count": 51,
   "metadata": {},
   "outputs": [
    {
     "data": {
      "text/plain": [
       "0.7596276517959346"
      ]
     },
     "execution_count": 51,
     "metadata": {},
     "output_type": "execute_result"
    }
   ],
   "source": [
    "my_custom_loss_func(y_test, model.predict(X_test))"
   ]
  },
  {
   "cell_type": "code",
   "execution_count": 52,
   "metadata": {},
   "outputs": [],
   "source": [
    "from sklearn.metrics import make_scorer\n",
    "score = make_scorer(my_custom_loss_func, greater_is_better=False)"
   ]
  },
  {
   "cell_type": "markdown",
   "metadata": {},
   "source": [
    "# Using Permutation Importance for feature selection for NN (Not sure if this is recommended)"
   ]
  },
  {
   "cell_type": "code",
   "execution_count": null,
   "metadata": {},
   "outputs": [],
   "source": [
    "import eli5\n",
    "from eli5.sklearn import PermutationImportance\n",
    "\n",
    "perm = PermutationImportance(model, scoring = score, random_state=1).fit(X_train, y_train)\n",
    "eli5.show_weights(perm, feature_names = X_train.columns.tolist())"
   ]
  },
  {
   "cell_type": "code",
   "execution_count": null,
   "metadata": {},
   "outputs": [],
   "source": [
    "# import eli5\n",
    "# from eli5.sklearn import PermutationImportance\n",
    "\n",
    "# perm = PermutationImportance(model, scoring = 'r2', random_state=1).fit(X_train, y_train)\n",
    "# eli5.show_weights(perm, feature_names = X_train.columns.tolist())"
   ]
  },
  {
   "cell_type": "markdown",
   "metadata": {},
   "source": [
    "# NN model test results"
   ]
  },
  {
   "cell_type": "code",
   "execution_count": 39,
   "metadata": {},
   "outputs": [
    {
     "data": {
      "text/plain": [
       "array([[0.4774656 ],\n",
       "       [0.09636477],\n",
       "       [0.971063  ],\n",
       "       ...,\n",
       "       [0.00246406],\n",
       "       [0.70421135],\n",
       "       [0.8981146 ]], dtype=float32)"
      ]
     },
     "execution_count": 39,
     "metadata": {},
     "output_type": "execute_result"
    }
   ],
   "source": [
    "y_pred = model.predict(X_test)\n",
    "y_pred"
   ]
  },
  {
   "cell_type": "code",
   "execution_count": 40,
   "metadata": {},
   "outputs": [
    {
     "name": "stdout",
     "output_type": "stream",
     "text": [
      "6198/6198 [==============================] - 4s 649us/step - loss: 0.4830 - accuracy: 0.7566\n",
      "[0.48303136229515076, 0.7566424012184143]\n"
     ]
    }
   ],
   "source": [
    "score = model.evaluate(X_test, y_test,verbose=1)\n",
    "\n",
    "print(score)"
   ]
  },
  {
   "cell_type": "code",
   "execution_count": 41,
   "metadata": {},
   "outputs": [
    {
     "data": {
      "text/plain": [
       "array([[96382, 11525],\n",
       "       [36735, 53667]], dtype=int64)"
      ]
     },
     "execution_count": 41,
     "metadata": {},
     "output_type": "execute_result"
    }
   ],
   "source": [
    "from sklearn.metrics import confusion_matrix, precision_score, recall_score, f1_score, cohen_kappa_score, accuracy_score\n",
    "rounded = [round(x[0]) for x in y_pred]\n",
    "# Confusion matrix\n",
    "confusion_matrix(y_test, rounded)"
   ]
  },
  {
   "cell_type": "code",
   "execution_count": 42,
   "metadata": {},
   "outputs": [
    {
     "name": "stdout",
     "output_type": "stream",
     "text": [
      "Accuracy:  0.7566424115899933\n",
      "Precision:  0.8232145048472205\n",
      "Recall:  0.5936483706112696\n",
      "F1 score:  0.6898337982184402\n",
      "Cohen Kappa Score:  0.49811029485867675\n"
     ]
    }
   ],
   "source": [
    "# Accuracy \n",
    "print(\"Accuracy: \", accuracy_score(y_test, rounded))\n",
    "print(\"Precision: \", precision_score(y_test, rounded))\n",
    "print(\"Recall: \", recall_score(y_test, rounded))\n",
    "print(\"F1 score: \", f1_score(y_test, rounded))\n",
    "print(\"Cohen Kappa Score: \", cohen_kappa_score(y_test, rounded))"
   ]
  },
  {
   "cell_type": "markdown",
   "metadata": {},
   "source": [
    "# Training Random Forest Classifier Model"
   ]
  },
  {
   "cell_type": "code",
   "execution_count": 44,
   "metadata": {},
   "outputs": [
    {
     "name": "stderr",
     "output_type": "stream",
     "text": [
      "<ipython-input-44-6bab64811ae4>:5: DataConversionWarning: A column-vector y was passed when a 1d array was expected. Please change the shape of y to (n_samples,), for example using ravel().\n",
      "  clf.fit(X_train2,y_train2)\n"
     ]
    },
    {
     "data": {
      "text/plain": [
       "RandomForestClassifier(n_estimators=500, oob_score=True)"
      ]
     },
     "execution_count": 44,
     "metadata": {},
     "output_type": "execute_result"
    }
   ],
   "source": [
    "#Create a Gaussian Classifier\n",
    "clf=RandomForestClassifier(n_estimators=500, oob_score=True)\n",
    "\n",
    "#Train the model using the training sets y_pred=clf.predict(X_test)\n",
    "clf.fit(X_train2,y_train2)\n",
    "\n"
   ]
  },
  {
   "cell_type": "markdown",
   "metadata": {},
   "source": [
    "# Feature Selection for Random Forest Classifier Model"
   ]
  },
  {
   "cell_type": "markdown",
   "metadata": {},
   "source": [
    "Using 'feature_importances'"
   ]
  },
  {
   "cell_type": "code",
   "execution_count": 45,
   "metadata": {},
   "outputs": [
    {
     "name": "stdout",
     "output_type": "stream",
     "text": [
      "('SEX', 0.014478559943283833)\n",
      "('ADMTYPE', 0.03955091028693849)\n",
      "('OFFGENERAL', 0.0339124938846298)\n",
      "('ADMITYR', 0.08903662548670026)\n",
      "('RELEASEYR', 0.06990081929813141)\n",
      "('MAND_PRISREL_YEAR', 0.08200835590488123)\n",
      "('PROJ_PRISREL_YEAR', 0.06873896721787207)\n",
      "('PARELIG_YEAR', 0.13580035647445943)\n",
      "('SENTLGTH', 0.045575993756498366)\n",
      "('OFFDETAIL', 0.07154332806340437)\n",
      "('RACE', 0.04517759960695708)\n",
      "('AGEADMIT', 0.04272676654317511)\n",
      "('AGERELEASE', 0.04374962385377173)\n",
      "('TIMESRVD', 0.07033561702697692)\n",
      "('RELTYPE', 0.021061024647149377)\n",
      "('STATE', 0.12640295800517057)\n"
     ]
    }
   ],
   "source": [
    "feat_labels = ['SEX','ADMTYPE','OFFGENERAL','ADMITYR','RELEASEYR','MAND_PRISREL_YEAR','PROJ_PRISREL_YEAR','PARELIG_YEAR','SENTLGTH','OFFDETAIL','RACE','AGEADMIT','AGERELEASE','TIMESRVD','RELTYPE','STATE']\n",
    "for feature in zip(feat_labels, clf.feature_importances_):\n",
    "    print(feature)"
   ]
  },
  {
   "cell_type": "markdown",
   "metadata": {},
   "source": [
    "Using sklearn SelectfromModel for feature selection"
   ]
  },
  {
   "cell_type": "code",
   "execution_count": 46,
   "metadata": {},
   "outputs": [
    {
     "data": {
      "text/plain": [
       "SelectFromModel(estimator=RandomForestClassifier(n_estimators=500,\n",
       "                                                 oob_score=True))"
      ]
     },
     "execution_count": 46,
     "metadata": {},
     "output_type": "execute_result"
    }
   ],
   "source": [
    "from sklearn.feature_selection import SelectFromModel\n",
    "# Create a selector object that will use the random forest classifier to identify\n",
    "# features that have an importance of more than 0.15\n",
    "sfm = SelectFromModel(clf)\n",
    "\n",
    "# Train the selector\n",
    "sfm.fit(X_train2, y_train2.values.ravel())"
   ]
  },
  {
   "cell_type": "code",
   "execution_count": 47,
   "metadata": {},
   "outputs": [
    {
     "name": "stdout",
     "output_type": "stream",
     "text": [
      "ADMITYR\n",
      "RELEASEYR\n",
      "MAND_PRISREL_YEAR\n",
      "PROJ_PRISREL_YEAR\n",
      "PARELIG_YEAR\n",
      "OFFDETAIL\n",
      "TIMESRVD\n",
      "STATE\n"
     ]
    }
   ],
   "source": [
    "# Print the names of the most important features\n",
    "for feature_list_index in sfm.get_support(indices=True):\n",
    "    print(feat_labels[feature_list_index])"
   ]
  },
  {
   "cell_type": "code",
   "execution_count": 48,
   "metadata": {},
   "outputs": [],
   "source": [
    "# Transform the data to create a new dataset containing only the most important features\n",
    "# Note: We have to apply the transform to both the training X and test X data.\n",
    "X_important_train = sfm.transform(X_train2)\n",
    "X_important_test = sfm.transform(X_test2)"
   ]
  },
  {
   "cell_type": "code",
   "execution_count": 49,
   "metadata": {},
   "outputs": [
    {
     "name": "stderr",
     "output_type": "stream",
     "text": [
      "<ipython-input-49-56fba80e5bf6>:5: DataConversionWarning: A column-vector y was passed when a 1d array was expected. Please change the shape of y to (n_samples,), for example using ravel().\n",
      "  clf_important.fit(X_important_train, y_train)\n"
     ]
    },
    {
     "data": {
      "text/plain": [
       "RandomForestClassifier(n_estimators=500, oob_score=True)"
      ]
     },
     "execution_count": 49,
     "metadata": {},
     "output_type": "execute_result"
    }
   ],
   "source": [
    "# Create a new random forest classifier for the most important features\n",
    "clf_important = RandomForestClassifier(n_estimators=500, oob_score=True)\n",
    "\n",
    "# Train the new classifier on the new dataset containing the most important features\n",
    "clf_important.fit(X_important_train, y_train)"
   ]
  },
  {
   "cell_type": "markdown",
   "metadata": {},
   "source": [
    "# Random Forest Classifier Model results"
   ]
  },
  {
   "cell_type": "code",
   "execution_count": 54,
   "metadata": {},
   "outputs": [
    {
     "name": "stdout",
     "output_type": "stream",
     "text": [
      "Accuracy: 0.7662133337367442\n",
      "Precision score:  0.7614705044172129\n",
      "Recall score:  0.709364837061127\n"
     ]
    }
   ],
   "source": [
    "y_pred2=clf.predict(X_test2)\n",
    "print(\"Accuracy:\", accuracy_score(y_test2, y_pred2))\n",
    "print(\"Precision score: \", precision_score(y_test2, y_pred2))\n",
    "print(\"Recall score: \", recall_score(y_test2, y_pred2))"
   ]
  },
  {
   "cell_type": "code",
   "execution_count": 55,
   "metadata": {},
   "outputs": [
    {
     "data": {
      "text/plain": [
       "array([[87819, 20088],\n",
       "       [26274, 64128]], dtype=int64)"
      ]
     },
     "execution_count": 55,
     "metadata": {},
     "output_type": "execute_result"
    }
   ],
   "source": [
    "confusion_matrix(y_test2, y_pred2)"
   ]
  },
  {
   "cell_type": "code",
   "execution_count": 56,
   "metadata": {},
   "outputs": [
    {
     "name": "stdout",
     "output_type": "stream",
     "text": [
      "Accuracy: 0.7467991871271601\n",
      "Precision score:  0.7448877623144605\n",
      "Recall score:  0.6761354837282361\n"
     ]
    }
   ],
   "source": [
    "# Apply The Full Featured Classifier To The Test Data\n",
    "y_important_pred = clf_important.predict(X_important_test)\n",
    "\n",
    "# View The Accuracy Of Our Limited Feature (8 Features) Model\n",
    "print(\"Accuracy:\", accuracy_score(y_test2, y_important_pred))\n",
    "print(\"Precision score: \", precision_score(y_test2, y_important_pred))\n",
    "print(\"Recall score: \", recall_score(y_test2, y_important_pred))"
   ]
  },
  {
   "cell_type": "code",
   "execution_count": 57,
   "metadata": {},
   "outputs": [
    {
     "data": {
      "text/plain": [
       "array([[86973, 20934],\n",
       "       [29278, 61124]], dtype=int64)"
      ]
     },
     "execution_count": 57,
     "metadata": {},
     "output_type": "execute_result"
    }
   ],
   "source": [
    "confusion_matrix(y_test2, y_important_pred)"
   ]
  },
  {
   "cell_type": "code",
   "execution_count": null,
   "metadata": {},
   "outputs": [],
   "source": [
    "print(clf.score(X_train2, y_train2))"
   ]
  },
  {
   "cell_type": "markdown",
   "metadata": {},
   "source": [
    "As can be seen, accuracy for model after feature selection has slightly deproved."
   ]
  },
  {
   "cell_type": "code",
   "execution_count": null,
   "metadata": {},
   "outputs": [],
   "source": [
    "print(clf.oob_score_)"
   ]
  },
  {
   "cell_type": "code",
   "execution_count": null,
   "metadata": {},
   "outputs": [],
   "source": [
    "print(clf.score(X_test2,y_test2))"
   ]
  },
  {
   "cell_type": "code",
   "execution_count": null,
   "metadata": {},
   "outputs": [],
   "source": [
    "from rfpimp import *\n",
    "imp = importances(model, X_test2, y_test2) # permutation\n",
    "viz = plot_importances(imp)\n",
    "viz.view()"
   ]
  },
  {
   "cell_type": "markdown",
   "metadata": {},
   "source": [
    "# Training Decision Tree Classifier Model (Not going to be included)"
   ]
  },
  {
   "cell_type": "code",
   "execution_count": null,
   "metadata": {},
   "outputs": [],
   "source": [
    "from sklearn.tree import DecisionTreeClassifier\n",
    "dtc = DecisionTreeClassifier()\n",
    "\n",
    "# Train Decision Tree Classifer\n",
    "dtc = dtc.fit(X_train2,y_train2)\n",
    "\n",
    "#Predict the response for test dataset\n",
    "y_pred_dtc = dtc.predict(X_test2)"
   ]
  },
  {
   "cell_type": "code",
   "execution_count": null,
   "metadata": {},
   "outputs": [],
   "source": [
    "print(\"Accuracy:\",metrics.accuracy_score(y_test2, y_pred_dtc))"
   ]
  },
  {
   "cell_type": "markdown",
   "metadata": {},
   "source": [
    "# Finding the optimized max_depth"
   ]
  },
  {
   "cell_type": "code",
   "execution_count": null,
   "metadata": {},
   "outputs": [],
   "source": [
    "max_depths = np.linspace(1, 32, 32, endpoint=True)\n",
    "train_results = []\n",
    "test_results = []\n",
    "for max_depth in max_depths:\n",
    "   dt = DecisionTreeClassifier(max_depth=max_depth)\n",
    "   dt.fit(X_train2,y_train2)\n",
    "   train_pred = dt.predict(X_train2)\n",
    "   false_positive_rate, true_positive_rate, thresholds = roc_curve(y_train2, train_pred)\n",
    "   roc_auc = auc(false_positive_rate, true_positive_rate)\n",
    "   # Add auc score to previous train results\n",
    "   train_results.append(roc_auc)\n",
    "   y_pred = dt.predict(X_test2)\n",
    "   false_positive_rate, true_positive_rate, thresholds = roc_curve(y_test, y_pred)\n",
    "   roc_auc = auc(false_positive_rate, true_positive_rate)\n",
    "   # Add auc score to previous test results\n",
    "   test_results.append(roc_auc)\n",
    "from matplotlib.legend_handler import HandlerLine2D\n",
    "line1, = plt.plot(max_depths, train_results, 'b', label= 'Train AUC')\n",
    "line2, = plt.plot(max_depths, test_results, 'r', label= 'Test AUC')\n",
    "plt.legend(handler_map={line1: HandlerLine2D(numpoints=2)})\n",
    "plt.ylabel('AUC score')\n",
    "plt.xlabel('Tree depth')\n",
    "plt.show()"
   ]
  },
  {
   "cell_type": "markdown",
   "metadata": {},
   "source": [
    "As seen above in the graph, max_depth 7 is the most optimum (intersect)"
   ]
  },
  {
   "cell_type": "code",
   "execution_count": null,
   "metadata": {},
   "outputs": [],
   "source": [
    "from sklearn.tree import DecisionTreeClassifier\n",
    "dtc = DecisionTreeClassifier(max_depth = 7)\n",
    "\n",
    "# Train Decision Tree Classifer\n",
    "dtc = dtc.fit(X_train2,y_train2)\n",
    "\n",
    "#Predict the response for test dataset\n",
    "y_pred_dtc = dtc.predict(X_test2)"
   ]
  },
  {
   "cell_type": "code",
   "execution_count": null,
   "metadata": {},
   "outputs": [],
   "source": [
    "print(\"Accuracy:\",metrics.accuracy_score(y_test2, y_pred_dtc))"
   ]
  },
  {
   "cell_type": "markdown",
   "metadata": {},
   "source": [
    "Visualization of pruned decision tree using sklearn graphviz"
   ]
  },
  {
   "cell_type": "code",
   "execution_count": null,
   "metadata": {},
   "outputs": [],
   "source": [
    "from sklearn.tree import export_graphviz\n",
    "from sklearn.externals.six import StringIO  \n",
    "from IPython.display import Image  \n",
    "import pydotplus\n",
    "\n",
    "dot_data = StringIO()\n",
    "export_graphviz(dtc, out_file=dot_data,  \n",
    "                filled=True, rounded=True,\n",
    "                special_characters=True,feature_names = feat_labels,class_names=['0','1'])\n",
    "graph = pydotplus.graph_from_dot_data(dot_data.getvalue())  \n",
    "graph.write_png('dtree.png')\n",
    "Image(graph.create_png())"
   ]
  },
  {
   "cell_type": "markdown",
   "metadata": {},
   "source": [
    "# Feature Selection for Decision Tree Model"
   ]
  },
  {
   "cell_type": "markdown",
   "metadata": {},
   "source": [
    "SelectfromModel used for decision tree classfication"
   ]
  },
  {
   "cell_type": "code",
   "execution_count": null,
   "metadata": {},
   "outputs": [],
   "source": [
    "sfm = SelectFromModel(clf)\n",
    "\n",
    "# Train the selector\n",
    "sfm.fit(X_train2, y_train2.values.ravel())"
   ]
  },
  {
   "cell_type": "code",
   "execution_count": null,
   "metadata": {},
   "outputs": [],
   "source": [
    "# Print the names of the most important features\n",
    "for feature_list_index in sfm.get_support(indices=True):\n",
    "    print(feat_labels[feature_list_index])"
   ]
  },
  {
   "cell_type": "markdown",
   "metadata": {},
   "source": [
    "# Using features selected from Random Forrest and Decision Tree on NN"
   ]
  },
  {
   "cell_type": "markdown",
   "metadata": {},
   "source": [
    "Using features selected from random forest model above"
   ]
  },
  {
   "cell_type": "code",
   "execution_count": 44,
   "metadata": {},
   "outputs": [],
   "source": [
    "X3 = complete_rows[['ADMITYR','RELEASEYR','MAND_PRISREL_YEAR','PROJ_PRISREL_YEAR','PARELIG_YEAR','OFFDETAIL','TIMESRVD','STATE']]\n",
    "y3 = complete_rows.iloc[:, 0:1]\n",
    "from sklearn.model_selection import train_test_split\n",
    "\n",
    "X_train3, X_test3, y_train3, y_test3 = train_test_split(X3, y3, test_size=0.3, random_state=42)"
   ]
  },
  {
   "cell_type": "code",
   "execution_count": 45,
   "metadata": {},
   "outputs": [],
   "source": [
    "# Initialize the constructor\n",
    "model2 = Sequential()\n",
    "\n",
    "# Add an input layer of one-dimensional array with 8 elements for input. (Thus no need to flattenlayer) It would produce 32 outputs in return\n",
    "model2.add(Dense(7, activation='relu', input_shape=(8,)))\n",
    "\n",
    "# # model.add(Flatten)\n",
    "\n",
    "# # Add one hidden layer \n",
    "model2.add(Dense(7, activation='relu'))\n",
    "\n",
    "# model2.add(Dense(128, activation='relu'))\n",
    "\n",
    "# model2.add(Dense(256, activation='relu'))\n",
    "\n",
    "# Add an output layer \n",
    "model2.add(Dense(1, activation='sigmoid')) "
   ]
  },
  {
   "cell_type": "code",
   "execution_count": 46,
   "metadata": {},
   "outputs": [
    {
     "name": "stdout",
     "output_type": "stream",
     "text": [
      "Model: \"sequential_1\"\n",
      "_________________________________________________________________\n",
      "Layer (type)                 Output Shape              Param #   \n",
      "=================================================================\n",
      "dense_3 (Dense)              (None, 7)                 63        \n",
      "_________________________________________________________________\n",
      "dense_4 (Dense)              (None, 7)                 56        \n",
      "_________________________________________________________________\n",
      "dense_5 (Dense)              (None, 1)                 8         \n",
      "=================================================================\n",
      "Total params: 127\n",
      "Trainable params: 127\n",
      "Non-trainable params: 0\n",
      "_________________________________________________________________\n"
     ]
    },
    {
     "data": {
      "text/plain": [
       "[array([[-0.10863483,  0.56163234, -0.55499107, -0.17730406,  0.00082058,\n",
       "          0.42029887, -0.32411146],\n",
       "        [-0.27738312,  0.36895376,  0.6141152 ,  0.06015027,  0.25840884,\n",
       "          0.04869813,  0.14064449],\n",
       "        [ 0.19043797,  0.08721691, -0.2555291 , -0.27869272,  0.06503552,\n",
       "         -0.15546769, -0.09265679],\n",
       "        [ 0.2639724 , -0.35665283, -0.4741883 , -0.09771848,  0.55489784,\n",
       "          0.5920133 , -0.4476304 ],\n",
       "        [-0.01158768, -0.5898957 ,  0.59468824,  0.39791328,  0.35825527,\n",
       "          0.40594822, -0.05185127],\n",
       "        [ 0.29552037,  0.55482596,  0.6001896 , -0.1680949 , -0.07977498,\n",
       "          0.37001985, -0.01830143],\n",
       "        [ 0.03481859, -0.23959672,  0.08622211,  0.12131739, -0.41073066,\n",
       "          0.22608316, -0.42611748],\n",
       "        [ 0.51219696, -0.32502526, -0.3571233 ,  0.03838426,  0.38066643,\n",
       "         -0.1734395 ,  0.6315296 ]], dtype=float32),\n",
       " array([0., 0., 0., 0., 0., 0., 0.], dtype=float32),\n",
       " array([[ 0.579991  ,  0.11751866,  0.4792403 ,  0.08019954, -0.65301234,\n",
       "          0.6328672 , -0.38179696],\n",
       "        [ 0.15072173, -0.4883712 ,  0.35351968, -0.16196555, -0.11674792,\n",
       "          0.5283034 ,  0.05984998],\n",
       "        [ 0.42992365,  0.37957275,  0.00351638,  0.34790933,  0.04201984,\n",
       "         -0.6282233 ,  0.25593477],\n",
       "        [-0.24796388,  0.29029083, -0.10628486, -0.58933973,  0.01696235,\n",
       "          0.5245656 , -0.58581215],\n",
       "        [ 0.08637851, -0.33353093, -0.15947121,  0.63977563, -0.35580298,\n",
       "         -0.5989076 ,  0.63334537],\n",
       "        [-0.52139294, -0.29236048, -0.32545152, -0.45675656,  0.43141794,\n",
       "         -0.62031245, -0.0117172 ],\n",
       "        [-0.16427821,  0.45687294,  0.05154389,  0.43198907, -0.56657106,\n",
       "          0.5568155 ,  0.27194488]], dtype=float32),\n",
       " array([0., 0., 0., 0., 0., 0., 0.], dtype=float32),\n",
       " array([[ 0.30462307],\n",
       "        [-0.545377  ],\n",
       "        [-0.0249269 ],\n",
       "        [-0.5903251 ],\n",
       "        [-0.49782237],\n",
       "        [ 0.31830674],\n",
       "        [-0.7786759 ]], dtype=float32),\n",
       " array([0.], dtype=float32)]"
      ]
     },
     "execution_count": 46,
     "metadata": {},
     "output_type": "execute_result"
    }
   ],
   "source": [
    "# Model output shape\n",
    "model2.output_shape\n",
    "\n",
    "# Model summary\n",
    "model2.summary()\n",
    "\n",
    "# Model config\n",
    "model2.get_config()\n",
    "\n",
    "# List all weight tensors \n",
    "model2.get_weights()"
   ]
  },
  {
   "cell_type": "code",
   "execution_count": 47,
   "metadata": {},
   "outputs": [],
   "source": [
    "model2.compile(loss='binary_crossentropy',\n",
    "              optimizer='adam',\n",
    "              metrics=['accuracy'])"
   ]
  },
  {
   "cell_type": "code",
   "execution_count": 48,
   "metadata": {},
   "outputs": [
    {
     "name": "stdout",
     "output_type": "stream",
     "text": [
      "Epoch 1/20\n",
      "7230/7230 [==============================] - 6s 767us/step - loss: 0.7105 - accuracy: 0.6040\n",
      "Epoch 2/20\n",
      "7230/7230 [==============================] - 6s 787us/step - loss: 0.6246 - accuracy: 0.6328\n",
      "Epoch 3/20\n",
      "7230/7230 [==============================] - 6s 786us/step - loss: 0.6026 - accuracy: 0.6643\n",
      "Epoch 4/20\n",
      "7230/7230 [==============================] - 6s 818us/step - loss: 0.5800 - accuracy: 0.6949\n",
      "Epoch 5/20\n",
      "7230/7230 [==============================] - 7s 912us/step - loss: 0.5723 - accuracy: 0.6987\n",
      "Epoch 6/20\n",
      "7230/7230 [==============================] - 7s 1ms/step - loss: 0.5689 - accuracy: 0.7011\n",
      "Epoch 7/20\n",
      "7230/7230 [==============================] - 7s 938us/step - loss: 0.5634 - accuracy: 0.7029\n",
      "Epoch 8/20\n",
      "7230/7230 [==============================] - 5s 737us/step - loss: 0.5628 - accuracy: 0.7063\n",
      "Epoch 9/20\n",
      "7230/7230 [==============================] - 6s 843us/step - loss: 0.5561 - accuracy: 0.7081\n",
      "Epoch 10/20\n",
      "7230/7230 [==============================] - 7s 970us/step - loss: 0.5556 - accuracy: 0.7096\n",
      "Epoch 11/20\n",
      "7230/7230 [==============================] - 6s 844us/step - loss: 0.5514 - accuracy: 0.7109\n",
      "Epoch 12/20\n",
      "7230/7230 [==============================] - 7s 943us/step - loss: 0.5509 - accuracy: 0.7119\n",
      "Epoch 13/20\n",
      "7230/7230 [==============================] - 6s 810us/step - loss: 0.5475 - accuracy: 0.7142\n",
      "Epoch 14/20\n",
      "7230/7230 [==============================] - 6s 783us/step - loss: 0.5456 - accuracy: 0.7139\n",
      "Epoch 15/20\n",
      "7230/7230 [==============================] - 7s 951us/step - loss: 0.5439 - accuracy: 0.7151\n",
      "Epoch 16/20\n",
      "7230/7230 [==============================] - 6s 896us/step - loss: 0.5413 - accuracy: 0.7165\n",
      "Epoch 17/20\n",
      "7230/7230 [==============================] - 6s 803us/step - loss: 0.5416 - accuracy: 0.7149\n",
      "Epoch 18/20\n",
      "7230/7230 [==============================] - 7s 1ms/step - loss: 0.5409 - accuracy: 0.7149\n",
      "Epoch 19/20\n",
      "7230/7230 [==============================] - 6s 866us/step - loss: 0.5391 - accuracy: 0.7171\n",
      "Epoch 20/20\n",
      "7230/7230 [==============================] - 8s 1ms/step - loss: 0.5391 - accuracy: 0.7163\n"
     ]
    },
    {
     "data": {
      "text/plain": [
       "<tensorflow.python.keras.callbacks.History at 0x2d1413838e0>"
      ]
     },
     "execution_count": 48,
     "metadata": {},
     "output_type": "execute_result"
    }
   ],
   "source": [
    "model2.fit(X_train3, y_train3, epochs=20, batch_size=64, verbose=1)"
   ]
  },
  {
   "cell_type": "code",
   "execution_count": 49,
   "metadata": {},
   "outputs": [],
   "source": [
    "from ann_visualizer.visualize import ann_viz;\n",
    "\n",
    "ann_viz(model2, filename= \"nn2.gv\", title=\"Neural Network revised\")"
   ]
  },
  {
   "cell_type": "code",
   "execution_count": 50,
   "metadata": {},
   "outputs": [
    {
     "data": {
      "text/plain": [
       "array([[76780, 31127],\n",
       "       [26009, 64393]], dtype=int64)"
      ]
     },
     "execution_count": 50,
     "metadata": {},
     "output_type": "execute_result"
    }
   ],
   "source": [
    "y_pred3 = model2.predict(X_test3)\n",
    "y_pred3\n",
    "rounded2 = [round(x[0]) for x in y_pred3]\n",
    "# Confusion matrix\n",
    "confusion_matrix(y_test3, rounded2)"
   ]
  },
  {
   "cell_type": "code",
   "execution_count": 51,
   "metadata": {},
   "outputs": [
    {
     "name": "stdout",
     "output_type": "stream",
     "text": [
      "Accuracy:  0.711883979042807\n",
      "Precision:  0.6741310720268007\n",
      "Recall:  0.7122961881374306\n",
      "F1 score:  0.6926883316659673\n",
      "Cohen Kappa Score:  0.42189746196889955\n"
     ]
    }
   ],
   "source": [
    "# Accuracy \n",
    "print(\"Accuracy: \", accuracy_score(y_test3, rounded2))\n",
    "print(\"Precision: \", precision_score(y_test3, rounded2))\n",
    "print(\"Recall: \", recall_score(y_test3, rounded2))\n",
    "print(\"F1 score: \", f1_score(y_test3, rounded2))\n",
    "print(\"Cohen Kappa Score: \", cohen_kappa_score(y_test3, rounded2))"
   ]
  },
  {
   "cell_type": "markdown",
   "metadata": {},
   "source": [
    "Using features selected from decision tree model above"
   ]
  },
  {
   "cell_type": "code",
   "execution_count": null,
   "metadata": {},
   "outputs": [],
   "source": [
    "X4 = complete_rows[['ADMITYR','RELEASEYR','PARELIG_YEAR','TIMESRVD','STATE']]\n",
    "y4 = complete_rows.iloc[:, 0:1]\n",
    "from sklearn.model_selection import train_test_split\n",
    "\n",
    "X_train4, X_test4, y_train4, y_test4 = train_test_split(X4, y4, test_size=0.3, random_state=42)"
   ]
  },
  {
   "cell_type": "code",
   "execution_count": null,
   "metadata": {},
   "outputs": [],
   "source": [
    "# Initialize the constructor\n",
    "model3 = Sequential()\n",
    "\n",
    "# Add an input layer of one-dimensional array with 8 elements for input. (Thus no need to flattenlayer) It would produce 32 outputs in return\n",
    "model3.add(Dense(32, activation='relu', input_shape=(5,)))\n",
    "\n",
    "# model.add(Flatten)\n",
    "\n",
    "# Add one hidden layer \n",
    "model3.add(Dense(64, activation='relu'))\n",
    "\n",
    "model3.add(Dense(128, activation='relu'))\n",
    "\n",
    "model3.add(Dense(256, activation='relu'))\n",
    "\n",
    "# Add an output layer \n",
    "model3.add(Dense(1, activation='sigmoid')) #activation: \"relu\", research more on this."
   ]
  },
  {
   "cell_type": "code",
   "execution_count": null,
   "metadata": {},
   "outputs": [],
   "source": [
    "# Model output shape\n",
    "model3.output_shape\n",
    "\n",
    "# Model summary\n",
    "model3.summary()\n",
    "\n",
    "# Model config\n",
    "model3.get_config()\n",
    "\n",
    "# List all weight tensors \n",
    "model3.get_weights()"
   ]
  },
  {
   "cell_type": "code",
   "execution_count": null,
   "metadata": {},
   "outputs": [],
   "source": [
    "model3.compile(loss='binary_crossentropy',\n",
    "              optimizer='adam',\n",
    "              metrics=['accuracy'])"
   ]
  },
  {
   "cell_type": "code",
   "execution_count": null,
   "metadata": {},
   "outputs": [],
   "source": [
    "model3.fit(X_train4, y_train4, epochs=15, batch_size=64, verbose=1)"
   ]
  },
  {
   "cell_type": "code",
   "execution_count": null,
   "metadata": {},
   "outputs": [],
   "source": [
    "y_pred4 = model3.predict(X_test4)\n",
    "y_pred4\n",
    "rounded3 = [round(x[0]) for x in y_pred4]\n",
    "# Confusion matrix\n",
    "confusion_matrix(y_test4, rounded3)"
   ]
  },
  {
   "cell_type": "code",
   "execution_count": null,
   "metadata": {},
   "outputs": [],
   "source": [
    "# Accuracy \n",
    "print(\"Accuracy: \", accuracy_score(y_test3, rounded3))"
   ]
  },
  {
   "cell_type": "code",
   "execution_count": null,
   "metadata": {},
   "outputs": [],
   "source": []
  },
  {
   "cell_type": "markdown",
   "metadata": {},
   "source": [
    "https://medium.com/@mohtedibf/indepth-parameter-tuning-for-decision-tree-6753118a03c3\n",
    "\n",
    "\n",
    "https://www.datacamp.com/community/tutorials/decision-tree-classification-python"
   ]
  }
 ],
 "metadata": {
  "kernelspec": {
   "display_name": "Python 3",
   "language": "python",
   "name": "python3"
  },
  "language_info": {
   "codemirror_mode": {
    "name": "ipython",
    "version": 3
   },
   "file_extension": ".py",
   "mimetype": "text/x-python",
   "name": "python",
   "nbconvert_exporter": "python",
   "pygments_lexer": "ipython3",
   "version": "3.8.5"
  }
 },
 "nbformat": 4,
 "nbformat_minor": 4
}
